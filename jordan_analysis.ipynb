{
 "cells": [
  {
   "cell_type": "code",
   "execution_count": 1,
   "metadata": {},
   "outputs": [],
   "source": [
    "# Imports\n",
    "import matplotlib as mpl\n",
    "import pandas as pd\n",
    "import numpy as np\n",
    "import matplotlib.pyplot as plt\n",
    "import re"
   ]
  },
  {
   "cell_type": "markdown",
   "metadata": {},
   "source": [
    "# Importing and Setuping Up Dataset"
   ]
  },
  {
   "cell_type": "code",
   "execution_count": 2,
   "metadata": {},
   "outputs": [
    {
     "data": {
      "text/html": [
       "<div>\n",
       "<style scoped>\n",
       "    .dataframe tbody tr th:only-of-type {\n",
       "        vertical-align: middle;\n",
       "    }\n",
       "\n",
       "    .dataframe tbody tr th {\n",
       "        vertical-align: top;\n",
       "    }\n",
       "\n",
       "    .dataframe thead th {\n",
       "        text-align: right;\n",
       "    }\n",
       "</style>\n",
       "<table border=\"1\" class=\"dataframe\">\n",
       "  <thead>\n",
       "    <tr style=\"text-align: right;\">\n",
       "      <th></th>\n",
       "      <th>Unnamed: 0</th>\n",
       "      <th>Event</th>\n",
       "      <th>Result</th>\n",
       "      <th>White Rating</th>\n",
       "      <th>Black Rating</th>\n",
       "      <th>Eco</th>\n",
       "      <th>Opening</th>\n",
       "      <th>Termination</th>\n",
       "      <th>Turns</th>\n",
       "    </tr>\n",
       "  </thead>\n",
       "  <tbody>\n",
       "    <tr>\n",
       "      <th>0</th>\n",
       "      <td>0</td>\n",
       "      <td>Rated Classical game</td>\n",
       "      <td>0-1</td>\n",
       "      <td>1627</td>\n",
       "      <td>1827</td>\n",
       "      <td>B01</td>\n",
       "      <td>Scandinavian Defense</td>\n",
       "      <td>Normal</td>\n",
       "      <td>62</td>\n",
       "    </tr>\n",
       "    <tr>\n",
       "      <th>1</th>\n",
       "      <td>1</td>\n",
       "      <td>Rated Correspondence game</td>\n",
       "      <td>1/2-1/2</td>\n",
       "      <td>1337</td>\n",
       "      <td>1662</td>\n",
       "      <td>A00</td>\n",
       "      <td>Van't Kruijs Opening</td>\n",
       "      <td>Normal</td>\n",
       "      <td>164</td>\n",
       "    </tr>\n",
       "    <tr>\n",
       "      <th>2</th>\n",
       "      <td>2</td>\n",
       "      <td>Rated Classical game</td>\n",
       "      <td>1-0</td>\n",
       "      <td>1402</td>\n",
       "      <td>1524</td>\n",
       "      <td>B02</td>\n",
       "      <td>Alekhine Defense: Maroczy Variation</td>\n",
       "      <td>Normal</td>\n",
       "      <td>35</td>\n",
       "    </tr>\n",
       "    <tr>\n",
       "      <th>3</th>\n",
       "      <td>3</td>\n",
       "      <td>Rated Blitz game</td>\n",
       "      <td>1-0</td>\n",
       "      <td>1753</td>\n",
       "      <td>1744</td>\n",
       "      <td>C42</td>\n",
       "      <td>Russian Game: Three Knights Game</td>\n",
       "      <td>Normal</td>\n",
       "      <td>69</td>\n",
       "    </tr>\n",
       "    <tr>\n",
       "      <th>4</th>\n",
       "      <td>4</td>\n",
       "      <td>Rated Bullet game</td>\n",
       "      <td>1-0</td>\n",
       "      <td>1651</td>\n",
       "      <td>1627</td>\n",
       "      <td>A40</td>\n",
       "      <td>English Defense #2</td>\n",
       "      <td>Normal</td>\n",
       "      <td>61</td>\n",
       "    </tr>\n",
       "  </tbody>\n",
       "</table>\n",
       "</div>"
      ],
      "text/plain": [
       "   Unnamed: 0                      Event   Result  White Rating  Black Rating  \\\n",
       "0           0       Rated Classical game      0-1          1627          1827   \n",
       "1           1  Rated Correspondence game  1/2-1/2          1337          1662   \n",
       "2           2       Rated Classical game      1-0          1402          1524   \n",
       "3           3           Rated Blitz game      1-0          1753          1744   \n",
       "4           4          Rated Bullet game      1-0          1651          1627   \n",
       "\n",
       "   Eco                              Opening Termination  Turns  \n",
       "0  B01                 Scandinavian Defense      Normal     62  \n",
       "1  A00                 Van't Kruijs Opening      Normal    164  \n",
       "2  B02  Alekhine Defense: Maroczy Variation      Normal     35  \n",
       "3  C42     Russian Game: Three Knights Game      Normal     69  \n",
       "4  A40                   English Defense #2      Normal     61  "
      ]
     },
     "execution_count": 2,
     "metadata": {},
     "output_type": "execute_result"
    }
   ],
   "source": [
    "df = pd.read_csv('all_games.csv', low_memory=False)\n",
    "df.head()"
   ]
  },
  {
   "cell_type": "code",
   "execution_count": 3,
   "metadata": {},
   "outputs": [],
   "source": [
    "# Remove uncalibrated games\n",
    "df = df[df['White Rating'] != '?']\n",
    "df = df[df['Black Rating'] != '?']"
   ]
  },
  {
   "cell_type": "code",
   "execution_count": 4,
   "metadata": {},
   "outputs": [],
   "source": [
    "df = df.astype({\n",
    "    'White Rating': int,\n",
    "    'Black Rating': int,\n",
    "})"
   ]
  },
  {
   "cell_type": "code",
   "execution_count": 5,
   "metadata": {},
   "outputs": [],
   "source": [
    "df['Rating Diff'] = abs(df['White Rating'] - df['Black Rating'])\n",
    "df['Avg Rating'] = (df['White Rating'] + df['Black Rating']) / 2"
   ]
  },
  {
   "cell_type": "markdown",
   "metadata": {},
   "source": [
    "# Rating Analysis"
   ]
  },
  {
   "cell_type": "code",
   "execution_count": 71,
   "metadata": {},
   "outputs": [],
   "source": [
    "Rating_Ranges = [1200, 1400, 1600, 1800, 2000, 2200]"
   ]
  },
  {
   "cell_type": "code",
   "execution_count": 72,
   "metadata": {},
   "outputs": [
    {
     "data": {
      "text/plain": [
       "(690.999, 1200.0]    1084914\n",
       "(1200.0, 1400.0]     2672106\n",
       "(1400.0, 1600.0]     4764915\n",
       "(1600.0, 1800.0]     5437270\n",
       "(1800.0, 2000.0]     3881250\n",
       "(2000.0, 2200.0]     1619927\n",
       "(2200.0, 3053.0]      539618\n",
       "dtype: int64"
      ]
     },
     "metadata": {},
     "output_type": "display_data"
    },
    {
     "data": {
      "text/plain": [
       "<AxesSubplot:>"
      ]
     },
     "execution_count": 72,
     "metadata": {},
     "output_type": "execute_result"
    },
    {
     "data": {
      "image/png": "[encoded data removed]",
      "text/plain": [
       "<Figure size 432x288 with 1 Axes>"
      ]
     },
     "metadata": {
      "needs_background": "light"
     },
     "output_type": "display_data"
    }
   ],
   "source": [
    "rating = df['White Rating'].append(df['Black Rating'], ignore_index=True)\n",
    "bins = [rating.min()] + Rating_Ranges + [rating.max()]\n",
    "display(rating.value_counts(bins=bins, sort=False))\n",
    "rating.hist(bins=bins)"
   ]
  },
  {
   "cell_type": "code",
   "execution_count": 20,
   "metadata": {},
   "outputs": [
    {
     "data": {
      "text/plain": [
       "(-1.878, 93.85]      5587519\n",
       "(93.85, 187.7]       2335715\n",
       "(187.7, 281.55]      1111041\n",
       "(281.55, 375.4]       483623\n",
       "(375.4, 469.25]       232396\n",
       "(469.25, 563.1]       124443\n",
       "(563.1, 656.95]        64076\n",
       "(656.95, 750.8]        32335\n",
       "(750.8, 844.65]        15476\n",
       "(844.65, 938.5]         7204\n",
       "(938.5, 1032.35]        3547\n",
       "(1032.35, 1126.2]       1507\n",
       "(1126.2, 1220.05]        650\n",
       "(1220.05, 1313.9]        293\n",
       "(1313.9, 1407.75]        102\n",
       "(1407.75, 1501.6]         46\n",
       "(1501.6, 1595.45]         18\n",
       "(1595.45, 1689.3]          6\n",
       "(1689.3, 1783.15]          2\n",
       "(1783.15, 1877.0]          1\n",
       "Name: Rating Diff, dtype: int64"
      ]
     },
     "metadata": {},
     "output_type": "display_data"
    },
    {
     "data": {
      "text/plain": [
       "<AxesSubplot:>"
      ]
     },
     "execution_count": 20,
     "metadata": {},
     "output_type": "execute_result"
    },
    {
     "data": {
      "image/png": "[encoded data removed]",
      "text/plain": [
       "<Figure size 432x288 with 1 Axes>"
      ]
     },
     "metadata": {
      "needs_background": "light"
     },
     "output_type": "display_data"
    }
   ],
   "source": [
    "display(df['Rating Diff'].value_counts(bins=20, sort=False))\n",
    "df['Rating Diff'].hist(bins=20)"
   ]
  },
  {
   "cell_type": "code",
   "execution_count": 73,
   "metadata": {},
   "outputs": [
    {
     "data": {
      "text/plain": [
       "(769.499, 1200.0]     469317\n",
       "(1200.0, 1400.0]     1296150\n",
       "(1400.0, 1600.0]     2432965\n",
       "(1600.0, 1800.0]     2853567\n",
       "(1800.0, 2000.0]     1980709\n",
       "(2000.0, 2200.0]      756673\n",
       "(2200.0, 2944.0]      210619\n",
       "Name: Avg Rating, dtype: int64"
      ]
     },
     "metadata": {},
     "output_type": "display_data"
    },
    {
     "data": {
      "text/plain": [
       "<AxesSubplot:>"
      ]
     },
     "execution_count": 73,
     "metadata": {},
     "output_type": "execute_result"
    },
    {
     "data": {
      "image/png": "[encoded data removed]",
      "text/plain": [
       "<Figure size 432x288 with 1 Axes>"
      ]
     },
     "metadata": {
      "needs_background": "light"
     },
     "output_type": "display_data"
    }
   ],
   "source": [
    "avg_bins = [df['Avg Rating'].min()] + Rating_Ranges + [df['Avg Rating'].max()]\n",
    "display(df['Avg Rating'].value_counts(bins=avg_bins, sort=False))\n",
    "df['Avg Rating'].hist(bins=avg_bins)"
   ]
  },
  {
   "cell_type": "code",
   "execution_count": 49,
   "metadata": {},
   "outputs": [
    {
     "data": {
      "text/plain": [
       "(767.325, 1494.333]     2784249\n",
       "(1494.333, 2219.167]    7036787\n",
       "(2219.167, 2944.0]       178964\n",
       "Name: Avg Rating, dtype: int64"
      ]
     },
     "metadata": {},
     "output_type": "display_data"
    }
   ],
   "source": [
    "display(df['Avg Rating'].value_counts(bins=3, sort=False))"
   ]
  },
  {
   "cell_type": "code",
   "execution_count": 22,
   "metadata": {},
   "outputs": [
    {
     "data": {
      "text/plain": [
       "Rated Blitz game               3870582\n",
       "Rated Classical game           2433807\n",
       "Rated Bullet game              1970704\n",
       "Rated Blitz tournament          751459\n",
       "Rated Bullet tournament         662813\n",
       "Rated Classical tournament      266397\n",
       "Rated Correspondence game        44238\n",
       "Name: Event, dtype: int64"
      ]
     },
     "execution_count": 22,
     "metadata": {},
     "output_type": "execute_result"
    }
   ],
   "source": [
    "df['Event'].value_counts()"
   ]
  },
  {
   "cell_type": "code",
   "execution_count": 23,
   "metadata": {},
   "outputs": [
    {
     "data": {
      "text/plain": [
       "array(['Rated Classical game', 'Rated Correspondence game',\n",
       "       'Rated Blitz game', 'Rated Bullet game',\n",
       "       'Rated Classical tournament ', 'Rated Blitz tournament ',\n",
       "       'Rated Bullet tournament '], dtype=object)"
      ]
     },
     "execution_count": 23,
     "metadata": {},
     "output_type": "execute_result"
    }
   ],
   "source": [
    "df['Event'].unique()"
   ]
  },
  {
   "cell_type": "markdown",
   "metadata": {},
   "source": [
    "# Opening Analysis"
   ]
  },
  {
   "cell_type": "code",
   "execution_count": 6,
   "metadata": {},
   "outputs": [],
   "source": [
    "def opening_prune(op):\n",
    "    split = re.split('[:#,]', op)\n",
    "    return split[0].rstrip()\n",
    "df['Opening Short'] = df['Opening'].apply(opening_prune)"
   ]
  },
  {
   "cell_type": "code",
   "execution_count": 7,
   "metadata": {},
   "outputs": [
    {
     "name": "stdout",
     "output_type": "stream",
     "text": [
      "Overall Most Popular Openings\n"
     ]
    },
    {
     "data": {
      "text/html": [
       "<div>\n",
       "<style scoped>\n",
       "    .dataframe tbody tr th:only-of-type {\n",
       "        vertical-align: middle;\n",
       "    }\n",
       "\n",
       "    .dataframe tbody tr th {\n",
       "        vertical-align: top;\n",
       "    }\n",
       "\n",
       "    .dataframe thead th {\n",
       "        text-align: right;\n",
       "    }\n",
       "</style>\n",
       "<table border=\"1\" class=\"dataframe\">\n",
       "  <thead>\n",
       "    <tr style=\"text-align: right;\">\n",
       "      <th></th>\n",
       "      <th>counts</th>\n",
       "      <th>percentage</th>\n",
       "    </tr>\n",
       "  </thead>\n",
       "  <tbody>\n",
       "    <tr>\n",
       "      <th>Sicilian Defense</th>\n",
       "      <td>1122640</td>\n",
       "      <td>11.22640</td>\n",
       "    </tr>\n",
       "    <tr>\n",
       "      <th>French Defense</th>\n",
       "      <td>682542</td>\n",
       "      <td>6.82542</td>\n",
       "    </tr>\n",
       "    <tr>\n",
       "      <th>Queen's Pawn Game</th>\n",
       "      <td>605547</td>\n",
       "      <td>6.05547</td>\n",
       "    </tr>\n",
       "    <tr>\n",
       "      <th>Scandinavian Defense</th>\n",
       "      <td>462854</td>\n",
       "      <td>4.62854</td>\n",
       "    </tr>\n",
       "    <tr>\n",
       "      <th>King's Pawn Game</th>\n",
       "      <td>418280</td>\n",
       "      <td>4.18280</td>\n",
       "    </tr>\n",
       "    <tr>\n",
       "      <th>Italian Game</th>\n",
       "      <td>344832</td>\n",
       "      <td>3.44832</td>\n",
       "    </tr>\n",
       "    <tr>\n",
       "      <th>Caro-Kann Defense</th>\n",
       "      <td>331632</td>\n",
       "      <td>3.31632</td>\n",
       "    </tr>\n",
       "    <tr>\n",
       "      <th>Philidor Defense</th>\n",
       "      <td>328675</td>\n",
       "      <td>3.28675</td>\n",
       "    </tr>\n",
       "    <tr>\n",
       "      <th>English Opening</th>\n",
       "      <td>315162</td>\n",
       "      <td>3.15162</td>\n",
       "    </tr>\n",
       "    <tr>\n",
       "      <th>Ruy Lopez</th>\n",
       "      <td>267531</td>\n",
       "      <td>2.67531</td>\n",
       "    </tr>\n",
       "  </tbody>\n",
       "</table>\n",
       "</div>"
      ],
      "text/plain": [
       "                       counts  percentage\n",
       "Sicilian Defense      1122640    11.22640\n",
       "French Defense         682542     6.82542\n",
       "Queen's Pawn Game      605547     6.05547\n",
       "Scandinavian Defense   462854     4.62854\n",
       "King's Pawn Game       418280     4.18280\n",
       "Italian Game           344832     3.44832\n",
       "Caro-Kann Defense      331632     3.31632\n",
       "Philidor Defense       328675     3.28675\n",
       "English Opening        315162     3.15162\n",
       "Ruy Lopez              267531     2.67531"
      ]
     },
     "execution_count": 7,
     "metadata": {},
     "output_type": "execute_result"
    }
   ],
   "source": [
    "df['Opening Short'].value_counts(normalize=True)\n",
    "counts = df['Opening Short'].value_counts()\n",
    "percentage = df['Opening Short'].value_counts(normalize=True).mul(100)\n",
    "open_stats = pd.DataFrame({'counts': counts, 'percentage':percentage})\n",
    "print('Overall Most Popular Openings')\n",
    "open_stats.head(10)"
   ]
  },
  {
   "cell_type": "code",
   "execution_count": null,
   "metadata": {},
   "outputs": [],
   "source": []
  },
  {
   "cell_type": "code",
   "execution_count": 26,
   "metadata": {},
   "outputs": [
    {
     "data": {
      "text/plain": [
       "Queen's Pawn Game #2                                                        103556\n",
       "Queen's Pawn Game: Chigorin Variation                                        94690\n",
       "Queen's Pawn Game: Mason Attack                                              76423\n",
       "Queen's Pawn Game: Zukertort Variation                                       71070\n",
       "Queen's Pawn Game                                                            64255\n",
       "Queen's Pawn Game #3                                                         26812\n",
       "Queen's Pawn Game: London System                                             22409\n",
       "Queen's Pawn Game: Levitsky Attack                                           19546\n",
       "Queen's Pawn Game: Symmetrical Variation                                     16090\n",
       "Queen's Pawn Game: Colle System                                              15814\n",
       "Queen's Pawn Game: Franco-Sicilian Defense                                   14677\n",
       "Queen's Pawn Game: Anti-Torre                                                11789\n",
       "Queen's Pawn Game: Krause Variation                                          10970\n",
       "Queen's Pawn Game: Stonewall Attack                                           8830\n",
       "Queen's Pawn Game: Symmetrical Variation, Pseudo-Catalan                      8332\n",
       "Queen's Pawn Game: Torre Attack                                               7748\n",
       "Queen's Pawn Game: Anglo-Slav Opening                                         6168\n",
       "Queen's Pawn Game: Colle System, Anti-Colle                                   4367\n",
       "Queen's Pawn Game: Veresov Attack, Classical Defense                          4043\n",
       "Queen's Pawn Game: Veresov Attack, Alburt Defense                             3595\n",
       "Queen's Pawn Game: Steinitz Countergambit                                     3530\n",
       "Queen's Pawn Game: Liedmann Gambit                                            1468\n",
       "Queen's Pawn Game: Torre Attack, Gossip Variation                             1381\n",
       "Queen's Pawn Game: Colle System, Gruenfeld Formation                          1353\n",
       "Queen's Pawn Game: Veresov Attack, Shaviliuk Gambit                            816\n",
       "Queen's Pawn Game: Veresov Attack, Boyce Defense                               638\n",
       "Queen's Pawn Game: Veresov Attack, Fianchetto Defense                          623\n",
       "Queen's Pawn Game: Huebsch Gambit                                              562\n",
       "Queen's Pawn Game: Veresov Attack, Dutch System                                536\n",
       "Queen's Pawn Game: Torre Attack, Gruenfeld Variation                           459\n",
       "Queen's Pawn Game: Veresov Attack, Richter Variation                           451\n",
       "Queen's Pawn Game: Veresov Attack, Anti-Veresov                                376\n",
       "Queen's Pawn Game: Veresov Attack, Veresov Variation                           344\n",
       "Queen's Pawn Game: Veresov Attack, Two Knights System                          298\n",
       "Queen's Pawn Game: Englund Gambit                                              267\n",
       "Queen's Pawn Game: Zurich Gambit                                               260\n",
       "Queen's Pawn Game: Torre Attack, Gruenfeld Variation, Main Line                241\n",
       "Queen's Pawn Game: Barry Attack, Gruenfeld Variation                           184\n",
       "Queen's Pawn Game: Levitsky Attack, Welling Variation                          136\n",
       "Queen's Pawn Game: Chandler Gambit                                             121\n",
       "Queen's Pawn Game, Zukertort Variation                                          71\n",
       "Queen's Pawn Game: Veresov Attack, Shropshire Defense                           64\n",
       "Queen's Pawn Game: Veresov Attack, Two Knights System, Gruenfeld Defense        55\n",
       "Queen's Pawn Game: Levitsky Attack, Euwe Variation, Modern Line                 43\n",
       "Queen's Pawn Game: Morris Countergambit                                         40\n",
       "Queen's Pawn Game: Torre Attack, Breyer Variation                               39\n",
       "Queen's Pawn Game: Zilbermints Countergambit                                     5\n",
       "Queen's Pawn Game: London System, Pterodactyl Variation                          2\n",
       "Name: Opening, dtype: int64"
      ]
     },
     "execution_count": 26,
     "metadata": {},
     "output_type": "execute_result"
    }
   ],
   "source": [
    "df_q = df[df['Opening Short'] == \"Queen's Pawn Game\"]\n",
    "df_q['Opening'].value_counts()"
   ]
  },
  {
   "cell_type": "code",
   "execution_count": 27,
   "metadata": {},
   "outputs": [
    {
     "data": {
      "text/plain": [
       "King's Pawn Game: Wayward Queen Attack                                82487\n",
       "King's Pawn Game: Leonardis Variation                                 77342\n",
       "King's Pawn Game: McConnell Defense                                   37812\n",
       "King's Pawn Game: Busch-Gass Gambit                                   35324\n",
       "King's Pawn Game: Napoleon Attack                                     29878\n",
       "King's Pawn Game                                                      27532\n",
       "King's Pawn Game: Damiano Defense                                     26487\n",
       "King's Pawn Game: Maroczy Defense                                     18247\n",
       "King's Pawn Game: Wayward Queen Attack, Kiddie Countergambit          17595\n",
       "King's Pawn Game: Macleod Attack                                      15805\n",
       "King's Pawn Game: King's Head Opening #2                              10463\n",
       "King's Pawn Game: Nimzowitsch Defense                                  8014\n",
       "King's Pawn Game: Beyer Gambit                                         5615\n",
       "King's Pawn Game: Tayler Opening                                       5129\n",
       "King's Pawn Game: Gunderam Gambit                                      4199\n",
       "King's Pawn Game: Mengarini's Opening                                  3972\n",
       "King's Pawn Game: Dresden Opening                                      3296\n",
       "King's Pawn Game: Alapin Opening                                       2486\n",
       "King's Pawn Game: Tortoise Opening                                     2290\n",
       "King's Pawn Game: Clam Variation, King's Gambit Reversed               1436\n",
       "King's Pawn Game: King's Head Opening                                  1130\n",
       "King's Pawn Game: Schulze-Mueller Gambit                                314\n",
       "King's Pawn Game: Macleod Attack, Lasa Gambit                           279\n",
       "King's Pawn Game: Tayler Opening, Inverted Hanham                       245\n",
       "King's Pawn Game: Busch-Gass Gambit, Chiodini Gambit                    185\n",
       "King's Pawn Game: Weber Gambit                                          164\n",
       "King's Pawn Game: Bavarian Gambit                                       144\n",
       "King's Pawn Game: Clam Variation, Radisch Gambit                        127\n",
       "King's Pawn Game: La Bourdonnais Gambit                                 113\n",
       "King's Pawn Game: Pachman Wing Gambit                                   104\n",
       "King's Pawn Game: Philidor Gambit                                        37\n",
       "King's Pawn Game: Damiano Defense, Damiano Gambit, Chigorin Gambit       17\n",
       "King's Pawn Game: Gunderam Defense, Gunderam Gambit                       7\n",
       "King's Pawn Game: Nimzowitsch Defense: Wheeler Gambit                     3\n",
       "King's Pawn Game: Tayler Opening, Basman Gambit                           2\n",
       "Name: Opening, dtype: int64"
      ]
     },
     "execution_count": 27,
     "metadata": {},
     "output_type": "execute_result"
    }
   ],
   "source": [
    "df_k = df[df['Opening Short'] == \"King's Pawn Game\"]\n",
    "df_k['Opening'].value_counts()"
   ]
  },
  {
   "cell_type": "code",
   "execution_count": 56,
   "metadata": {},
   "outputs": [
    {
     "name": "stdout",
     "output_type": "stream",
     "text": [
      "Popular Openings in Rated Blitz game\n"
     ]
    },
    {
     "data": {
      "text/html": [
       "<div>\n",
       "<style scoped>\n",
       "    .dataframe tbody tr th:only-of-type {\n",
       "        vertical-align: middle;\n",
       "    }\n",
       "\n",
       "    .dataframe tbody tr th {\n",
       "        vertical-align: top;\n",
       "    }\n",
       "\n",
       "    .dataframe thead th {\n",
       "        text-align: right;\n",
       "    }\n",
       "</style>\n",
       "<table border=\"1\" class=\"dataframe\">\n",
       "  <thead>\n",
       "    <tr style=\"text-align: right;\">\n",
       "      <th></th>\n",
       "      <th>counts</th>\n",
       "      <th>percentage</th>\n",
       "    </tr>\n",
       "  </thead>\n",
       "  <tbody>\n",
       "    <tr>\n",
       "      <th>Sicilian Defense</th>\n",
       "      <td>58195</td>\n",
       "      <td>13.153880</td>\n",
       "    </tr>\n",
       "    <tr>\n",
       "      <th>French Defense</th>\n",
       "      <td>34123</td>\n",
       "      <td>7.712859</td>\n",
       "    </tr>\n",
       "    <tr>\n",
       "      <th>Queen's Pawn Game</th>\n",
       "      <td>28139</td>\n",
       "      <td>6.360289</td>\n",
       "    </tr>\n",
       "    <tr>\n",
       "      <th>Scandinavian Defense</th>\n",
       "      <td>16098</td>\n",
       "      <td>3.638649</td>\n",
       "    </tr>\n",
       "    <tr>\n",
       "      <th>Caro-Kann Defense</th>\n",
       "      <td>15487</td>\n",
       "      <td>3.500544</td>\n",
       "    </tr>\n",
       "    <tr>\n",
       "      <th>Philidor Defense</th>\n",
       "      <td>15433</td>\n",
       "      <td>3.488338</td>\n",
       "    </tr>\n",
       "    <tr>\n",
       "      <th>English Opening</th>\n",
       "      <td>14779</td>\n",
       "      <td>3.340514</td>\n",
       "    </tr>\n",
       "    <tr>\n",
       "      <th>King's Pawn Game</th>\n",
       "      <td>13067</td>\n",
       "      <td>2.953548</td>\n",
       "    </tr>\n",
       "    <tr>\n",
       "      <th>Italian Game</th>\n",
       "      <td>11018</td>\n",
       "      <td>2.490411</td>\n",
       "    </tr>\n",
       "    <tr>\n",
       "      <th>Ruy Lopez</th>\n",
       "      <td>10401</td>\n",
       "      <td>2.350949</td>\n",
       "    </tr>\n",
       "  </tbody>\n",
       "</table>\n",
       "</div>"
      ],
      "text/plain": [
       "                      counts  percentage\n",
       "Sicilian Defense       58195   13.153880\n",
       "French Defense         34123    7.712859\n",
       "Queen's Pawn Game      28139    6.360289\n",
       "Scandinavian Defense   16098    3.638649\n",
       "Caro-Kann Defense      15487    3.500544\n",
       "Philidor Defense       15433    3.488338\n",
       "English Opening        14779    3.340514\n",
       "King's Pawn Game       13067    2.953548\n",
       "Italian Game           11018    2.490411\n",
       "Ruy Lopez              10401    2.350949"
      ]
     },
     "metadata": {},
     "output_type": "display_data"
    },
    {
     "name": "stdout",
     "output_type": "stream",
     "text": [
      "Popular Openings in Rated Classical game\n"
     ]
    },
    {
     "data": {
      "text/html": [
       "<div>\n",
       "<style scoped>\n",
       "    .dataframe tbody tr th:only-of-type {\n",
       "        vertical-align: middle;\n",
       "    }\n",
       "\n",
       "    .dataframe tbody tr th {\n",
       "        vertical-align: top;\n",
       "    }\n",
       "\n",
       "    .dataframe thead th {\n",
       "        text-align: right;\n",
       "    }\n",
       "</style>\n",
       "<table border=\"1\" class=\"dataframe\">\n",
       "  <thead>\n",
       "    <tr style=\"text-align: right;\">\n",
       "      <th></th>\n",
       "      <th>counts</th>\n",
       "      <th>percentage</th>\n",
       "    </tr>\n",
       "  </thead>\n",
       "  <tbody>\n",
       "    <tr>\n",
       "      <th>Sicilian Defense</th>\n",
       "      <td>31432</td>\n",
       "      <td>11.122198</td>\n",
       "    </tr>\n",
       "    <tr>\n",
       "      <th>Queen's Pawn Game</th>\n",
       "      <td>19957</td>\n",
       "      <td>7.061775</td>\n",
       "    </tr>\n",
       "    <tr>\n",
       "      <th>French Defense</th>\n",
       "      <td>19416</td>\n",
       "      <td>6.870342</td>\n",
       "    </tr>\n",
       "    <tr>\n",
       "      <th>King's Pawn Game</th>\n",
       "      <td>16411</td>\n",
       "      <td>5.807025</td>\n",
       "    </tr>\n",
       "    <tr>\n",
       "      <th>Philidor Defense</th>\n",
       "      <td>14366</td>\n",
       "      <td>5.083402</td>\n",
       "    </tr>\n",
       "    <tr>\n",
       "      <th>Italian Game</th>\n",
       "      <td>10458</td>\n",
       "      <td>3.700558</td>\n",
       "    </tr>\n",
       "    <tr>\n",
       "      <th>Scandinavian Defense</th>\n",
       "      <td>10407</td>\n",
       "      <td>3.682512</td>\n",
       "    </tr>\n",
       "    <tr>\n",
       "      <th>Bishop's Opening</th>\n",
       "      <td>9078</td>\n",
       "      <td>3.212246</td>\n",
       "    </tr>\n",
       "    <tr>\n",
       "      <th>Ruy Lopez</th>\n",
       "      <td>8341</td>\n",
       "      <td>2.951459</td>\n",
       "    </tr>\n",
       "    <tr>\n",
       "      <th>English Opening</th>\n",
       "      <td>8022</td>\n",
       "      <td>2.838581</td>\n",
       "    </tr>\n",
       "  </tbody>\n",
       "</table>\n",
       "</div>"
      ],
      "text/plain": [
       "                      counts  percentage\n",
       "Sicilian Defense       31432   11.122198\n",
       "Queen's Pawn Game      19957    7.061775\n",
       "French Defense         19416    6.870342\n",
       "King's Pawn Game       16411    5.807025\n",
       "Philidor Defense       14366    5.083402\n",
       "Italian Game           10458    3.700558\n",
       "Scandinavian Defense   10407    3.682512\n",
       "Bishop's Opening        9078    3.212246\n",
       "Ruy Lopez               8341    2.951459\n",
       "English Opening         8022    2.838581"
      ]
     },
     "metadata": {},
     "output_type": "display_data"
    },
    {
     "name": "stdout",
     "output_type": "stream",
     "text": [
      "Popular Openings in Rated Blitz tournament \n"
     ]
    },
    {
     "data": {
      "text/html": [
       "<div>\n",
       "<style scoped>\n",
       "    .dataframe tbody tr th:only-of-type {\n",
       "        vertical-align: middle;\n",
       "    }\n",
       "\n",
       "    .dataframe tbody tr th {\n",
       "        vertical-align: top;\n",
       "    }\n",
       "\n",
       "    .dataframe thead th {\n",
       "        text-align: right;\n",
       "    }\n",
       "</style>\n",
       "<table border=\"1\" class=\"dataframe\">\n",
       "  <thead>\n",
       "    <tr style=\"text-align: right;\">\n",
       "      <th></th>\n",
       "      <th>counts</th>\n",
       "      <th>percentage</th>\n",
       "    </tr>\n",
       "  </thead>\n",
       "  <tbody>\n",
       "    <tr>\n",
       "      <th>Sicilian Defense</th>\n",
       "      <td>8806</td>\n",
       "      <td>14.977464</td>\n",
       "    </tr>\n",
       "    <tr>\n",
       "      <th>Queen's Pawn Game</th>\n",
       "      <td>3708</td>\n",
       "      <td>6.306659</td>\n",
       "    </tr>\n",
       "    <tr>\n",
       "      <th>French Defense</th>\n",
       "      <td>3362</td>\n",
       "      <td>5.718173</td>\n",
       "    </tr>\n",
       "    <tr>\n",
       "      <th>English Opening</th>\n",
       "      <td>2149</td>\n",
       "      <td>3.655073</td>\n",
       "    </tr>\n",
       "    <tr>\n",
       "      <th>Caro-Kann Defense</th>\n",
       "      <td>2051</td>\n",
       "      <td>3.488392</td>\n",
       "    </tr>\n",
       "    <tr>\n",
       "      <th>Scandinavian Defense</th>\n",
       "      <td>1880</td>\n",
       "      <td>3.197551</td>\n",
       "    </tr>\n",
       "    <tr>\n",
       "      <th>Italian Game</th>\n",
       "      <td>1733</td>\n",
       "      <td>2.947530</td>\n",
       "    </tr>\n",
       "    <tr>\n",
       "      <th>Ruy Lopez</th>\n",
       "      <td>1581</td>\n",
       "      <td>2.689004</td>\n",
       "    </tr>\n",
       "    <tr>\n",
       "      <th>Philidor Defense</th>\n",
       "      <td>1454</td>\n",
       "      <td>2.472999</td>\n",
       "    </tr>\n",
       "    <tr>\n",
       "      <th>Queen's Gambit Declined</th>\n",
       "      <td>1434</td>\n",
       "      <td>2.438983</td>\n",
       "    </tr>\n",
       "  </tbody>\n",
       "</table>\n",
       "</div>"
      ],
      "text/plain": [
       "                         counts  percentage\n",
       "Sicilian Defense           8806   14.977464\n",
       "Queen's Pawn Game          3708    6.306659\n",
       "French Defense             3362    5.718173\n",
       "English Opening            2149    3.655073\n",
       "Caro-Kann Defense          2051    3.488392\n",
       "Scandinavian Defense       1880    3.197551\n",
       "Italian Game               1733    2.947530\n",
       "Ruy Lopez                  1581    2.689004\n",
       "Philidor Defense           1454    2.472999\n",
       "Queen's Gambit Declined    1434    2.438983"
      ]
     },
     "metadata": {},
     "output_type": "display_data"
    },
    {
     "name": "stdout",
     "output_type": "stream",
     "text": [
      "Popular Openings in Rated Bullet game\n"
     ]
    },
    {
     "data": {
      "text/html": [
       "<div>\n",
       "<style scoped>\n",
       "    .dataframe tbody tr th:only-of-type {\n",
       "        vertical-align: middle;\n",
       "    }\n",
       "\n",
       "    .dataframe tbody tr th {\n",
       "        vertical-align: top;\n",
       "    }\n",
       "\n",
       "    .dataframe thead th {\n",
       "        text-align: right;\n",
       "    }\n",
       "</style>\n",
       "<table border=\"1\" class=\"dataframe\">\n",
       "  <thead>\n",
       "    <tr style=\"text-align: right;\">\n",
       "      <th></th>\n",
       "      <th>counts</th>\n",
       "      <th>percentage</th>\n",
       "    </tr>\n",
       "  </thead>\n",
       "  <tbody>\n",
       "    <tr>\n",
       "      <th>Sicilian Defense</th>\n",
       "      <td>21228</td>\n",
       "      <td>7.898320</td>\n",
       "    </tr>\n",
       "    <tr>\n",
       "      <th>French Defense</th>\n",
       "      <td>18565</td>\n",
       "      <td>6.907496</td>\n",
       "    </tr>\n",
       "    <tr>\n",
       "      <th>Queen's Pawn Game</th>\n",
       "      <td>13351</td>\n",
       "      <td>4.967518</td>\n",
       "    </tr>\n",
       "    <tr>\n",
       "      <th>Hungarian Opening</th>\n",
       "      <td>12679</td>\n",
       "      <td>4.717487</td>\n",
       "    </tr>\n",
       "    <tr>\n",
       "      <th>Modern Defense</th>\n",
       "      <td>12470</td>\n",
       "      <td>4.639724</td>\n",
       "    </tr>\n",
       "    <tr>\n",
       "      <th>Nimzo-Larsen Attack</th>\n",
       "      <td>12359</td>\n",
       "      <td>4.598424</td>\n",
       "    </tr>\n",
       "    <tr>\n",
       "      <th>Scandinavian Defense</th>\n",
       "      <td>11536</td>\n",
       "      <td>4.292210</td>\n",
       "    </tr>\n",
       "    <tr>\n",
       "      <th>Zukertort Opening</th>\n",
       "      <td>10247</td>\n",
       "      <td>3.812610</td>\n",
       "    </tr>\n",
       "    <tr>\n",
       "      <th>Caro-Kann Defense</th>\n",
       "      <td>9993</td>\n",
       "      <td>3.718104</td>\n",
       "    </tr>\n",
       "    <tr>\n",
       "      <th>Van't Kruijs Opening</th>\n",
       "      <td>9630</td>\n",
       "      <td>3.583042</td>\n",
       "    </tr>\n",
       "  </tbody>\n",
       "</table>\n",
       "</div>"
      ],
      "text/plain": [
       "                      counts  percentage\n",
       "Sicilian Defense       21228    7.898320\n",
       "French Defense         18565    6.907496\n",
       "Queen's Pawn Game      13351    4.967518\n",
       "Hungarian Opening      12679    4.717487\n",
       "Modern Defense         12470    4.639724\n",
       "Nimzo-Larsen Attack    12359    4.598424\n",
       "Scandinavian Defense   11536    4.292210\n",
       "Zukertort Opening      10247    3.812610\n",
       "Caro-Kann Defense       9993    3.718104\n",
       "Van't Kruijs Opening    9630    3.583042"
      ]
     },
     "metadata": {},
     "output_type": "display_data"
    },
    {
     "name": "stdout",
     "output_type": "stream",
     "text": [
      "Popular Openings in Rated Bullet tournament \n"
     ]
    },
    {
     "data": {
      "text/html": [
       "<div>\n",
       "<style scoped>\n",
       "    .dataframe tbody tr th:only-of-type {\n",
       "        vertical-align: middle;\n",
       "    }\n",
       "\n",
       "    .dataframe tbody tr th {\n",
       "        vertical-align: top;\n",
       "    }\n",
       "\n",
       "    .dataframe thead th {\n",
       "        text-align: right;\n",
       "    }\n",
       "</style>\n",
       "<table border=\"1\" class=\"dataframe\">\n",
       "  <thead>\n",
       "    <tr style=\"text-align: right;\">\n",
       "      <th></th>\n",
       "      <th>counts</th>\n",
       "      <th>percentage</th>\n",
       "    </tr>\n",
       "  </thead>\n",
       "  <tbody>\n",
       "    <tr>\n",
       "      <th>Sicilian Defense</th>\n",
       "      <td>3956</td>\n",
       "      <td>7.438467</td>\n",
       "    </tr>\n",
       "    <tr>\n",
       "      <th>French Defense</th>\n",
       "      <td>3877</td>\n",
       "      <td>7.289923</td>\n",
       "    </tr>\n",
       "    <tr>\n",
       "      <th>Caro-Kann Defense</th>\n",
       "      <td>2962</td>\n",
       "      <td>5.569449</td>\n",
       "    </tr>\n",
       "    <tr>\n",
       "      <th>Hungarian Opening</th>\n",
       "      <td>2735</td>\n",
       "      <td>5.142621</td>\n",
       "    </tr>\n",
       "    <tr>\n",
       "      <th>Queen's Pawn Game</th>\n",
       "      <td>2617</td>\n",
       "      <td>4.920745</td>\n",
       "    </tr>\n",
       "    <tr>\n",
       "      <th>Zukertort Opening</th>\n",
       "      <td>2611</td>\n",
       "      <td>4.909464</td>\n",
       "    </tr>\n",
       "    <tr>\n",
       "      <th>Nimzo-Larsen Attack</th>\n",
       "      <td>2241</td>\n",
       "      <td>4.213753</td>\n",
       "    </tr>\n",
       "    <tr>\n",
       "      <th>Scandinavian Defense</th>\n",
       "      <td>2136</td>\n",
       "      <td>4.016321</td>\n",
       "    </tr>\n",
       "    <tr>\n",
       "      <th>Modern Defense</th>\n",
       "      <td>1967</td>\n",
       "      <td>3.698550</td>\n",
       "    </tr>\n",
       "    <tr>\n",
       "      <th>Van't Kruijs Opening</th>\n",
       "      <td>1831</td>\n",
       "      <td>3.442829</td>\n",
       "    </tr>\n",
       "  </tbody>\n",
       "</table>\n",
       "</div>"
      ],
      "text/plain": [
       "                      counts  percentage\n",
       "Sicilian Defense        3956    7.438467\n",
       "French Defense          3877    7.289923\n",
       "Caro-Kann Defense       2962    5.569449\n",
       "Hungarian Opening       2735    5.142621\n",
       "Queen's Pawn Game       2617    4.920745\n",
       "Zukertort Opening       2611    4.909464\n",
       "Nimzo-Larsen Attack     2241    4.213753\n",
       "Scandinavian Defense    2136    4.016321\n",
       "Modern Defense          1967    3.698550\n",
       "Van't Kruijs Opening    1831    3.442829"
      ]
     },
     "metadata": {},
     "output_type": "display_data"
    },
    {
     "name": "stdout",
     "output_type": "stream",
     "text": [
      "Popular Openings in Rated Correspondence game\n"
     ]
    },
    {
     "data": {
      "text/html": [
       "<div>\n",
       "<style scoped>\n",
       "    .dataframe tbody tr th:only-of-type {\n",
       "        vertical-align: middle;\n",
       "    }\n",
       "\n",
       "    .dataframe tbody tr th {\n",
       "        vertical-align: top;\n",
       "    }\n",
       "\n",
       "    .dataframe thead th {\n",
       "        text-align: right;\n",
       "    }\n",
       "</style>\n",
       "<table border=\"1\" class=\"dataframe\">\n",
       "  <thead>\n",
       "    <tr style=\"text-align: right;\">\n",
       "      <th></th>\n",
       "      <th>counts</th>\n",
       "      <th>percentage</th>\n",
       "    </tr>\n",
       "  </thead>\n",
       "  <tbody>\n",
       "    <tr>\n",
       "      <th>King's Pawn Game</th>\n",
       "      <td>177</td>\n",
       "      <td>7.108434</td>\n",
       "    </tr>\n",
       "    <tr>\n",
       "      <th>Queen's Pawn Game</th>\n",
       "      <td>164</td>\n",
       "      <td>6.586345</td>\n",
       "    </tr>\n",
       "    <tr>\n",
       "      <th>Sicilian Defense</th>\n",
       "      <td>157</td>\n",
       "      <td>6.305221</td>\n",
       "    </tr>\n",
       "    <tr>\n",
       "      <th>English Opening</th>\n",
       "      <td>123</td>\n",
       "      <td>4.939759</td>\n",
       "    </tr>\n",
       "    <tr>\n",
       "      <th>Van't Kruijs Opening</th>\n",
       "      <td>118</td>\n",
       "      <td>4.738956</td>\n",
       "    </tr>\n",
       "    <tr>\n",
       "      <th>French Defense</th>\n",
       "      <td>116</td>\n",
       "      <td>4.658635</td>\n",
       "    </tr>\n",
       "    <tr>\n",
       "      <th>Kadas Opening</th>\n",
       "      <td>89</td>\n",
       "      <td>3.574297</td>\n",
       "    </tr>\n",
       "    <tr>\n",
       "      <th>Scandinavian Defense</th>\n",
       "      <td>81</td>\n",
       "      <td>3.253012</td>\n",
       "    </tr>\n",
       "    <tr>\n",
       "      <th>Bishop's Opening</th>\n",
       "      <td>74</td>\n",
       "      <td>2.971888</td>\n",
       "    </tr>\n",
       "    <tr>\n",
       "      <th>Zukertort Opening</th>\n",
       "      <td>68</td>\n",
       "      <td>2.730924</td>\n",
       "    </tr>\n",
       "  </tbody>\n",
       "</table>\n",
       "</div>"
      ],
      "text/plain": [
       "                      counts  percentage\n",
       "King's Pawn Game         177    7.108434\n",
       "Queen's Pawn Game        164    6.586345\n",
       "Sicilian Defense         157    6.305221\n",
       "English Opening          123    4.939759\n",
       "Van't Kruijs Opening     118    4.738956\n",
       "French Defense           116    4.658635\n",
       "Kadas Opening             89    3.574297\n",
       "Scandinavian Defense      81    3.253012\n",
       "Bishop's Opening          74    2.971888\n",
       "Zukertort Opening         68    2.730924"
      ]
     },
     "metadata": {},
     "output_type": "display_data"
    },
    {
     "name": "stdout",
     "output_type": "stream",
     "text": [
      "Popular Openings in Rated Classical tournament \n"
     ]
    },
    {
     "data": {
      "text/html": [
       "<div>\n",
       "<style scoped>\n",
       "    .dataframe tbody tr th:only-of-type {\n",
       "        vertical-align: middle;\n",
       "    }\n",
       "\n",
       "    .dataframe tbody tr th {\n",
       "        vertical-align: top;\n",
       "    }\n",
       "\n",
       "    .dataframe thead th {\n",
       "        text-align: right;\n",
       "    }\n",
       "</style>\n",
       "<table border=\"1\" class=\"dataframe\">\n",
       "  <thead>\n",
       "    <tr style=\"text-align: right;\">\n",
       "      <th></th>\n",
       "      <th>counts</th>\n",
       "      <th>percentage</th>\n",
       "    </tr>\n",
       "  </thead>\n",
       "  <tbody>\n",
       "    <tr>\n",
       "      <th>Sicilian Defense</th>\n",
       "      <td>366</td>\n",
       "      <td>11.738294</td>\n",
       "    </tr>\n",
       "    <tr>\n",
       "      <th>English Opening</th>\n",
       "      <td>201</td>\n",
       "      <td>6.446440</td>\n",
       "    </tr>\n",
       "    <tr>\n",
       "      <th>Queen's Pawn Game</th>\n",
       "      <td>194</td>\n",
       "      <td>6.221937</td>\n",
       "    </tr>\n",
       "    <tr>\n",
       "      <th>French Defense</th>\n",
       "      <td>164</td>\n",
       "      <td>5.259782</td>\n",
       "    </tr>\n",
       "    <tr>\n",
       "      <th>Caro-Kann Defense</th>\n",
       "      <td>138</td>\n",
       "      <td>4.425914</td>\n",
       "    </tr>\n",
       "    <tr>\n",
       "      <th>Philidor Defense</th>\n",
       "      <td>133</td>\n",
       "      <td>4.265555</td>\n",
       "    </tr>\n",
       "    <tr>\n",
       "      <th>Italian Game</th>\n",
       "      <td>100</td>\n",
       "      <td>3.207184</td>\n",
       "    </tr>\n",
       "    <tr>\n",
       "      <th>Ruy Lopez</th>\n",
       "      <td>95</td>\n",
       "      <td>3.046825</td>\n",
       "    </tr>\n",
       "    <tr>\n",
       "      <th>Bird Opening</th>\n",
       "      <td>84</td>\n",
       "      <td>2.694035</td>\n",
       "    </tr>\n",
       "    <tr>\n",
       "      <th>Bishop's Opening</th>\n",
       "      <td>83</td>\n",
       "      <td>2.661963</td>\n",
       "    </tr>\n",
       "  </tbody>\n",
       "</table>\n",
       "</div>"
      ],
      "text/plain": [
       "                   counts  percentage\n",
       "Sicilian Defense      366   11.738294\n",
       "English Opening       201    6.446440\n",
       "Queen's Pawn Game     194    6.221937\n",
       "French Defense        164    5.259782\n",
       "Caro-Kann Defense     138    4.425914\n",
       "Philidor Defense      133    4.265555\n",
       "Italian Game          100    3.207184\n",
       "Ruy Lopez              95    3.046825\n",
       "Bird Opening           84    2.694035\n",
       "Bishop's Opening       83    2.661963"
      ]
     },
     "metadata": {},
     "output_type": "display_data"
    }
   ],
   "source": [
    "for event in df['Event'].unique():\n",
    "    df_event = df[df['Event'] == event]\n",
    "    print(f'Popular Openings in {event}')\n",
    "    counts = df_event['Opening Short'].value_counts()\n",
    "    percentage = df_event['Opening Short'].value_counts(normalize=True).mul(100)\n",
    "    open_stats = pd.DataFrame({'counts': counts, 'percentage':percentage})\n",
    "    display(open_stats.head(10))"
   ]
  },
  {
   "cell_type": "markdown",
   "metadata": {},
   "source": [
    "# Rating Breakdown"
   ]
  },
  {
   "cell_type": "code",
   "execution_count": 8,
   "metadata": {},
   "outputs": [],
   "source": [
    "Rating_Ranges = [1500, 2200, 2200]"
   ]
  },
  {
   "cell_type": "code",
   "execution_count": 26,
   "metadata": {},
   "outputs": [
    {
     "data": {
      "text/html": [
       "<div>\n",
       "<style scoped>\n",
       "    .dataframe tbody tr th:only-of-type {\n",
       "        vertical-align: middle;\n",
       "    }\n",
       "\n",
       "    .dataframe tbody tr th {\n",
       "        vertical-align: top;\n",
       "    }\n",
       "\n",
       "    .dataframe thead th {\n",
       "        text-align: right;\n",
       "    }\n",
       "</style>\n",
       "<table border=\"1\" class=\"dataframe\">\n",
       "  <thead>\n",
       "    <tr style=\"text-align: right;\">\n",
       "      <th></th>\n",
       "      <th>index</th>\n",
       "      <th>Opening Short</th>\n",
       "    </tr>\n",
       "  </thead>\n",
       "  <tbody>\n",
       "    <tr>\n",
       "      <th>4</th>\n",
       "      <td>Scandinavian Defense</td>\n",
       "      <td>0.056198</td>\n",
       "    </tr>\n",
       "  </tbody>\n",
       "</table>\n",
       "</div>"
      ],
      "text/plain": [
       "                  index  Opening Short\n",
       "4  Scandinavian Defense       0.056198"
      ]
     },
     "execution_count": 26,
     "metadata": {},
     "output_type": "execute_result"
    }
   ],
   "source": [
    "df_novice = df[df['Avg Rating'] < 1500]\n",
    "df_n = pd.DataFrame(df_novice['Opening Short'].value_counts(normalize=True)).reset_index()\n",
    "df_n[df_n['index'] == 'Scandinavian Defense']\n",
    "#df_n.loc('Scandinavian Defense')"
   ]
  },
  {
   "cell_type": "code",
   "execution_count": 27,
   "metadata": {},
   "outputs": [
    {
     "data": {
      "text/html": [
       "<div>\n",
       "<style scoped>\n",
       "    .dataframe tbody tr th:only-of-type {\n",
       "        vertical-align: middle;\n",
       "    }\n",
       "\n",
       "    .dataframe tbody tr th {\n",
       "        vertical-align: top;\n",
       "    }\n",
       "\n",
       "    .dataframe thead th {\n",
       "        text-align: right;\n",
       "    }\n",
       "</style>\n",
       "<table border=\"1\" class=\"dataframe\">\n",
       "  <thead>\n",
       "    <tr style=\"text-align: right;\">\n",
       "      <th></th>\n",
       "      <th>index</th>\n",
       "      <th>Opening Short</th>\n",
       "    </tr>\n",
       "  </thead>\n",
       "  <tbody>\n",
       "    <tr>\n",
       "      <th>10</th>\n",
       "      <td>Scandinavian Defense</td>\n",
       "      <td>0.028563</td>\n",
       "    </tr>\n",
       "  </tbody>\n",
       "</table>\n",
       "</div>"
      ],
      "text/plain": [
       "                   index  Opening Short\n",
       "10  Scandinavian Defense       0.028563"
      ]
     },
     "execution_count": 27,
     "metadata": {},
     "output_type": "execute_result"
    }
   ],
   "source": [
    "df_master = df[df['Avg Rating'] > 2200]\n",
    "df_m = pd.DataFrame(df_master['Opening Short'].value_counts(normalize=True)).reset_index()\n",
    "df_m[df_m['index'] == 'Scandinavian Defense']"
   ]
  },
  {
   "cell_type": "code",
   "execution_count": 11,
   "metadata": {},
   "outputs": [],
   "source": [
    "df_mid = df[(df['Avg Rating'] > 1500) & (df['Avg Rating'] < 2200)]"
   ]
  },
  {
   "cell_type": "code",
   "execution_count": null,
   "metadata": {},
   "outputs": [],
   "source": []
  },
  {
   "cell_type": "code",
   "execution_count": 59,
   "metadata": {},
   "outputs": [
    {
     "name": "stdout",
     "output_type": "stream",
     "text": [
      "Popular Openings in Rating Range: 0 - 1200\n"
     ]
    },
    {
     "data": {
      "text/html": [
       "<div>\n",
       "<style scoped>\n",
       "    .dataframe tbody tr th:only-of-type {\n",
       "        vertical-align: middle;\n",
       "    }\n",
       "\n",
       "    .dataframe tbody tr th {\n",
       "        vertical-align: top;\n",
       "    }\n",
       "\n",
       "    .dataframe thead th {\n",
       "        text-align: right;\n",
       "    }\n",
       "</style>\n",
       "<table border=\"1\" class=\"dataframe\">\n",
       "  <thead>\n",
       "    <tr style=\"text-align: right;\">\n",
       "      <th></th>\n",
       "      <th>Opening</th>\n",
       "      <th>counts</th>\n",
       "      <th>percentage</th>\n",
       "    </tr>\n",
       "  </thead>\n",
       "  <tbody>\n",
       "    <tr>\n",
       "      <th>0</th>\n",
       "      <td>King's Pawn Game</td>\n",
       "      <td>45191</td>\n",
       "      <td>14.703576</td>\n",
       "    </tr>\n",
       "    <tr>\n",
       "      <th>1</th>\n",
       "      <td>Queen's Pawn Game</td>\n",
       "      <td>23538</td>\n",
       "      <td>7.658445</td>\n",
       "    </tr>\n",
       "    <tr>\n",
       "      <th>2</th>\n",
       "      <td>Scandinavian Defense</td>\n",
       "      <td>18060</td>\n",
       "      <td>5.876094</td>\n",
       "    </tr>\n",
       "    <tr>\n",
       "      <th>3</th>\n",
       "      <td>French Defense</td>\n",
       "      <td>15567</td>\n",
       "      <td>5.064959</td>\n",
       "    </tr>\n",
       "    <tr>\n",
       "      <th>4</th>\n",
       "      <td>Sicilian Defense</td>\n",
       "      <td>13041</td>\n",
       "      <td>4.243087</td>\n",
       "    </tr>\n",
       "    <tr>\n",
       "      <th>5</th>\n",
       "      <td>Van't Kruijs Opening</td>\n",
       "      <td>12323</td>\n",
       "      <td>4.009475</td>\n",
       "    </tr>\n",
       "    <tr>\n",
       "      <th>6</th>\n",
       "      <td>Philidor Defense</td>\n",
       "      <td>10797</td>\n",
       "      <td>3.512967</td>\n",
       "    </tr>\n",
       "    <tr>\n",
       "      <th>7</th>\n",
       "      <td>Bishop's Opening</td>\n",
       "      <td>8405</td>\n",
       "      <td>2.734694</td>\n",
       "    </tr>\n",
       "    <tr>\n",
       "      <th>8</th>\n",
       "      <td>Russian Game</td>\n",
       "      <td>7358</td>\n",
       "      <td>2.394037</td>\n",
       "    </tr>\n",
       "    <tr>\n",
       "      <th>9</th>\n",
       "      <td>Italian Game</td>\n",
       "      <td>7275</td>\n",
       "      <td>2.367031</td>\n",
       "    </tr>\n",
       "  </tbody>\n",
       "</table>\n",
       "</div>"
      ],
      "text/plain": [
       "                Opening  counts  percentage\n",
       "0      King's Pawn Game   45191   14.703576\n",
       "1     Queen's Pawn Game   23538    7.658445\n",
       "2  Scandinavian Defense   18060    5.876094\n",
       "3        French Defense   15567    5.064959\n",
       "4      Sicilian Defense   13041    4.243087\n",
       "5  Van't Kruijs Opening   12323    4.009475\n",
       "6      Philidor Defense   10797    3.512967\n",
       "7      Bishop's Opening    8405    2.734694\n",
       "8          Russian Game    7358    2.394037\n",
       "9          Italian Game    7275    2.367031"
      ]
     },
     "metadata": {},
     "output_type": "display_data"
    },
    {
     "name": "stdout",
     "output_type": "stream",
     "text": [
      "Popular Openings in Rating Range: 1200 - 1400\n"
     ]
    },
    {
     "data": {
      "text/html": [
       "<div>\n",
       "<style scoped>\n",
       "    .dataframe tbody tr th:only-of-type {\n",
       "        vertical-align: middle;\n",
       "    }\n",
       "\n",
       "    .dataframe tbody tr th {\n",
       "        vertical-align: top;\n",
       "    }\n",
       "\n",
       "    .dataframe thead th {\n",
       "        text-align: right;\n",
       "    }\n",
       "</style>\n",
       "<table border=\"1\" class=\"dataframe\">\n",
       "  <thead>\n",
       "    <tr style=\"text-align: right;\">\n",
       "      <th></th>\n",
       "      <th>Opening</th>\n",
       "      <th>counts</th>\n",
       "      <th>percentage</th>\n",
       "    </tr>\n",
       "  </thead>\n",
       "  <tbody>\n",
       "    <tr>\n",
       "      <th>0</th>\n",
       "      <td>King's Pawn Game</td>\n",
       "      <td>69334</td>\n",
       "      <td>9.852974</td>\n",
       "    </tr>\n",
       "    <tr>\n",
       "      <th>1</th>\n",
       "      <td>Queen's Pawn Game</td>\n",
       "      <td>52334</td>\n",
       "      <td>7.437124</td>\n",
       "    </tr>\n",
       "    <tr>\n",
       "      <th>2</th>\n",
       "      <td>Sicilian Defense</td>\n",
       "      <td>50626</td>\n",
       "      <td>7.194402</td>\n",
       "    </tr>\n",
       "    <tr>\n",
       "      <th>3</th>\n",
       "      <td>Scandinavian Defense</td>\n",
       "      <td>42120</td>\n",
       "      <td>5.985624</td>\n",
       "    </tr>\n",
       "    <tr>\n",
       "      <th>4</th>\n",
       "      <td>French Defense</td>\n",
       "      <td>40233</td>\n",
       "      <td>5.717465</td>\n",
       "    </tr>\n",
       "    <tr>\n",
       "      <th>5</th>\n",
       "      <td>Philidor Defense</td>\n",
       "      <td>33905</td>\n",
       "      <td>4.818200</td>\n",
       "    </tr>\n",
       "    <tr>\n",
       "      <th>6</th>\n",
       "      <td>Italian Game</td>\n",
       "      <td>31721</td>\n",
       "      <td>4.507834</td>\n",
       "    </tr>\n",
       "    <tr>\n",
       "      <th>7</th>\n",
       "      <td>Ruy Lopez</td>\n",
       "      <td>24062</td>\n",
       "      <td>3.419423</td>\n",
       "    </tr>\n",
       "    <tr>\n",
       "      <th>8</th>\n",
       "      <td>Bishop's Opening</td>\n",
       "      <td>19872</td>\n",
       "      <td>2.823987</td>\n",
       "    </tr>\n",
       "    <tr>\n",
       "      <th>9</th>\n",
       "      <td>Van't Kruijs Opening</td>\n",
       "      <td>18712</td>\n",
       "      <td>2.659141</td>\n",
       "    </tr>\n",
       "  </tbody>\n",
       "</table>\n",
       "</div>"
      ],
      "text/plain": [
       "                Opening  counts  percentage\n",
       "0      King's Pawn Game   69334    9.852974\n",
       "1     Queen's Pawn Game   52334    7.437124\n",
       "2      Sicilian Defense   50626    7.194402\n",
       "3  Scandinavian Defense   42120    5.985624\n",
       "4        French Defense   40233    5.717465\n",
       "5      Philidor Defense   33905    4.818200\n",
       "6          Italian Game   31721    4.507834\n",
       "7             Ruy Lopez   24062    3.419423\n",
       "8      Bishop's Opening   19872    2.823987\n",
       "9  Van't Kruijs Opening   18712    2.659141"
      ]
     },
     "metadata": {},
     "output_type": "display_data"
    },
    {
     "name": "stdout",
     "output_type": "stream",
     "text": [
      "Popular Openings in Rating Range: 1400 - 1600\n"
     ]
    },
    {
     "data": {
      "text/html": [
       "<div>\n",
       "<style scoped>\n",
       "    .dataframe tbody tr th:only-of-type {\n",
       "        vertical-align: middle;\n",
       "    }\n",
       "\n",
       "    .dataframe tbody tr th {\n",
       "        vertical-align: top;\n",
       "    }\n",
       "\n",
       "    .dataframe thead th {\n",
       "        text-align: right;\n",
       "    }\n",
       "</style>\n",
       "<table border=\"1\" class=\"dataframe\">\n",
       "  <thead>\n",
       "    <tr style=\"text-align: right;\">\n",
       "      <th></th>\n",
       "      <th>Opening</th>\n",
       "      <th>counts</th>\n",
       "      <th>percentage</th>\n",
       "    </tr>\n",
       "  </thead>\n",
       "  <tbody>\n",
       "    <tr>\n",
       "      <th>0</th>\n",
       "      <td>Sicilian Defense</td>\n",
       "      <td>133531</td>\n",
       "      <td>9.949808</td>\n",
       "    </tr>\n",
       "    <tr>\n",
       "      <th>1</th>\n",
       "      <td>Queen's Pawn Game</td>\n",
       "      <td>90741</td>\n",
       "      <td>6.761393</td>\n",
       "    </tr>\n",
       "    <tr>\n",
       "      <th>2</th>\n",
       "      <td>French Defense</td>\n",
       "      <td>88641</td>\n",
       "      <td>6.604915</td>\n",
       "    </tr>\n",
       "    <tr>\n",
       "      <th>3</th>\n",
       "      <td>King's Pawn Game</td>\n",
       "      <td>72787</td>\n",
       "      <td>5.423585</td>\n",
       "    </tr>\n",
       "    <tr>\n",
       "      <th>4</th>\n",
       "      <td>Philidor Defense</td>\n",
       "      <td>66235</td>\n",
       "      <td>4.935375</td>\n",
       "    </tr>\n",
       "    <tr>\n",
       "      <th>5</th>\n",
       "      <td>Scandinavian Defense</td>\n",
       "      <td>65549</td>\n",
       "      <td>4.884259</td>\n",
       "    </tr>\n",
       "    <tr>\n",
       "      <th>6</th>\n",
       "      <td>Italian Game</td>\n",
       "      <td>64550</td>\n",
       "      <td>4.809820</td>\n",
       "    </tr>\n",
       "    <tr>\n",
       "      <th>7</th>\n",
       "      <td>Ruy Lopez</td>\n",
       "      <td>47826</td>\n",
       "      <td>3.563663</td>\n",
       "    </tr>\n",
       "    <tr>\n",
       "      <th>8</th>\n",
       "      <td>Bishop's Opening</td>\n",
       "      <td>36865</td>\n",
       "      <td>2.746925</td>\n",
       "    </tr>\n",
       "    <tr>\n",
       "      <th>9</th>\n",
       "      <td>English Opening</td>\n",
       "      <td>34242</td>\n",
       "      <td>2.551477</td>\n",
       "    </tr>\n",
       "  </tbody>\n",
       "</table>\n",
       "</div>"
      ],
      "text/plain": [
       "                Opening  counts  percentage\n",
       "0      Sicilian Defense  133531    9.949808\n",
       "1     Queen's Pawn Game   90741    6.761393\n",
       "2        French Defense   88641    6.604915\n",
       "3      King's Pawn Game   72787    5.423585\n",
       "4      Philidor Defense   66235    4.935375\n",
       "5  Scandinavian Defense   65549    4.884259\n",
       "6          Italian Game   64550    4.809820\n",
       "7             Ruy Lopez   47826    3.563663\n",
       "8      Bishop's Opening   36865    2.746925\n",
       "9       English Opening   34242    2.551477"
      ]
     },
     "metadata": {},
     "output_type": "display_data"
    },
    {
     "name": "stdout",
     "output_type": "stream",
     "text": [
      "Popular Openings in Rating Range: 1600 - 1800\n"
     ]
    },
    {
     "data": {
      "text/html": [
       "<div>\n",
       "<style scoped>\n",
       "    .dataframe tbody tr th:only-of-type {\n",
       "        vertical-align: middle;\n",
       "    }\n",
       "\n",
       "    .dataframe tbody tr th {\n",
       "        vertical-align: top;\n",
       "    }\n",
       "\n",
       "    .dataframe thead th {\n",
       "        text-align: right;\n",
       "    }\n",
       "</style>\n",
       "<table border=\"1\" class=\"dataframe\">\n",
       "  <thead>\n",
       "    <tr style=\"text-align: right;\">\n",
       "      <th></th>\n",
       "      <th>Opening</th>\n",
       "      <th>counts</th>\n",
       "      <th>percentage</th>\n",
       "    </tr>\n",
       "  </thead>\n",
       "  <tbody>\n",
       "    <tr>\n",
       "      <th>0</th>\n",
       "      <td>Sicilian Defense</td>\n",
       "      <td>194236</td>\n",
       "      <td>12.807510</td>\n",
       "    </tr>\n",
       "    <tr>\n",
       "      <th>1</th>\n",
       "      <td>French Defense</td>\n",
       "      <td>108414</td>\n",
       "      <td>7.148589</td>\n",
       "    </tr>\n",
       "    <tr>\n",
       "      <th>2</th>\n",
       "      <td>Queen's Pawn Game</td>\n",
       "      <td>92593</td>\n",
       "      <td>6.105386</td>\n",
       "    </tr>\n",
       "    <tr>\n",
       "      <th>3</th>\n",
       "      <td>Scandinavian Defense</td>\n",
       "      <td>69136</td>\n",
       "      <td>4.558681</td>\n",
       "    </tr>\n",
       "    <tr>\n",
       "      <th>4</th>\n",
       "      <td>Italian Game</td>\n",
       "      <td>56796</td>\n",
       "      <td>3.745008</td>\n",
       "    </tr>\n",
       "    <tr>\n",
       "      <th>5</th>\n",
       "      <td>Caro-Kann Defense</td>\n",
       "      <td>53442</td>\n",
       "      <td>3.523852</td>\n",
       "    </tr>\n",
       "    <tr>\n",
       "      <th>6</th>\n",
       "      <td>Philidor Defense</td>\n",
       "      <td>53324</td>\n",
       "      <td>3.516071</td>\n",
       "    </tr>\n",
       "    <tr>\n",
       "      <th>7</th>\n",
       "      <td>English Opening</td>\n",
       "      <td>44441</td>\n",
       "      <td>2.930345</td>\n",
       "    </tr>\n",
       "    <tr>\n",
       "      <th>8</th>\n",
       "      <td>Ruy Lopez</td>\n",
       "      <td>41977</td>\n",
       "      <td>2.767874</td>\n",
       "    </tr>\n",
       "    <tr>\n",
       "      <th>9</th>\n",
       "      <td>Modern Defense</td>\n",
       "      <td>37802</td>\n",
       "      <td>2.492584</td>\n",
       "    </tr>\n",
       "  </tbody>\n",
       "</table>\n",
       "</div>"
      ],
      "text/plain": [
       "                Opening  counts  percentage\n",
       "0      Sicilian Defense  194236   12.807510\n",
       "1        French Defense  108414    7.148589\n",
       "2     Queen's Pawn Game   92593    6.105386\n",
       "3  Scandinavian Defense   69136    4.558681\n",
       "4          Italian Game   56796    3.745008\n",
       "5     Caro-Kann Defense   53442    3.523852\n",
       "6      Philidor Defense   53324    3.516071\n",
       "7       English Opening   44441    2.930345\n",
       "8             Ruy Lopez   41977    2.767874\n",
       "9        Modern Defense   37802    2.492584"
      ]
     },
     "metadata": {},
     "output_type": "display_data"
    },
    {
     "name": "stdout",
     "output_type": "stream",
     "text": [
      "Popular Openings in Rating Range: 1800 - 2000\n"
     ]
    },
    {
     "data": {
      "text/html": [
       "<div>\n",
       "<style scoped>\n",
       "    .dataframe tbody tr th:only-of-type {\n",
       "        vertical-align: middle;\n",
       "    }\n",
       "\n",
       "    .dataframe tbody tr th {\n",
       "        vertical-align: top;\n",
       "    }\n",
       "\n",
       "    .dataframe thead th {\n",
       "        text-align: right;\n",
       "    }\n",
       "</style>\n",
       "<table border=\"1\" class=\"dataframe\">\n",
       "  <thead>\n",
       "    <tr style=\"text-align: right;\">\n",
       "      <th></th>\n",
       "      <th>Opening</th>\n",
       "      <th>counts</th>\n",
       "      <th>percentage</th>\n",
       "    </tr>\n",
       "  </thead>\n",
       "  <tbody>\n",
       "    <tr>\n",
       "      <th>0</th>\n",
       "      <td>Sicilian Defense</td>\n",
       "      <td>144017</td>\n",
       "      <td>14.306874</td>\n",
       "    </tr>\n",
       "    <tr>\n",
       "      <th>1</th>\n",
       "      <td>French Defense</td>\n",
       "      <td>77911</td>\n",
       "      <td>7.739801</td>\n",
       "    </tr>\n",
       "    <tr>\n",
       "      <th>2</th>\n",
       "      <td>Queen's Pawn Game</td>\n",
       "      <td>51826</td>\n",
       "      <td>5.148476</td>\n",
       "    </tr>\n",
       "    <tr>\n",
       "      <th>3</th>\n",
       "      <td>Caro-Kann Defense</td>\n",
       "      <td>46380</td>\n",
       "      <td>4.607462</td>\n",
       "    </tr>\n",
       "    <tr>\n",
       "      <th>4</th>\n",
       "      <td>English Opening</td>\n",
       "      <td>42326</td>\n",
       "      <td>4.204731</td>\n",
       "    </tr>\n",
       "    <tr>\n",
       "      <th>5</th>\n",
       "      <td>Scandinavian Defense</td>\n",
       "      <td>39928</td>\n",
       "      <td>3.966510</td>\n",
       "    </tr>\n",
       "    <tr>\n",
       "      <th>6</th>\n",
       "      <td>Italian Game</td>\n",
       "      <td>24554</td>\n",
       "      <td>2.439233</td>\n",
       "    </tr>\n",
       "    <tr>\n",
       "      <th>7</th>\n",
       "      <td>Modern Defense</td>\n",
       "      <td>24493</td>\n",
       "      <td>2.433173</td>\n",
       "    </tr>\n",
       "    <tr>\n",
       "      <th>8</th>\n",
       "      <td>Queen's Gambit Declined</td>\n",
       "      <td>23996</td>\n",
       "      <td>2.383800</td>\n",
       "    </tr>\n",
       "    <tr>\n",
       "      <th>9</th>\n",
       "      <td>Indian Game</td>\n",
       "      <td>23163</td>\n",
       "      <td>2.301049</td>\n",
       "    </tr>\n",
       "  </tbody>\n",
       "</table>\n",
       "</div>"
      ],
      "text/plain": [
       "                   Opening  counts  percentage\n",
       "0         Sicilian Defense  144017   14.306874\n",
       "1           French Defense   77911    7.739801\n",
       "2        Queen's Pawn Game   51826    5.148476\n",
       "3        Caro-Kann Defense   46380    4.607462\n",
       "4          English Opening   42326    4.204731\n",
       "5     Scandinavian Defense   39928    3.966510\n",
       "6             Italian Game   24554    2.439233\n",
       "7           Modern Defense   24493    2.433173\n",
       "8  Queen's Gambit Declined   23996    2.383800\n",
       "9              Indian Game   23163    2.301049"
      ]
     },
     "metadata": {},
     "output_type": "display_data"
    },
    {
     "name": "stdout",
     "output_type": "stream",
     "text": [
      "Popular Openings in Rating Range: 2000 - 2200\n"
     ]
    },
    {
     "data": {
      "text/html": [
       "<div>\n",
       "<style scoped>\n",
       "    .dataframe tbody tr th:only-of-type {\n",
       "        vertical-align: middle;\n",
       "    }\n",
       "\n",
       "    .dataframe tbody tr th {\n",
       "        vertical-align: top;\n",
       "    }\n",
       "\n",
       "    .dataframe thead th {\n",
       "        text-align: right;\n",
       "    }\n",
       "</style>\n",
       "<table border=\"1\" class=\"dataframe\">\n",
       "  <thead>\n",
       "    <tr style=\"text-align: right;\">\n",
       "      <th></th>\n",
       "      <th>Opening</th>\n",
       "      <th>counts</th>\n",
       "      <th>percentage</th>\n",
       "    </tr>\n",
       "  </thead>\n",
       "  <tbody>\n",
       "    <tr>\n",
       "      <th>0</th>\n",
       "      <td>Sicilian Defense</td>\n",
       "      <td>51409</td>\n",
       "      <td>14.382353</td>\n",
       "    </tr>\n",
       "    <tr>\n",
       "      <th>1</th>\n",
       "      <td>French Defense</td>\n",
       "      <td>27318</td>\n",
       "      <td>7.642574</td>\n",
       "    </tr>\n",
       "    <tr>\n",
       "      <th>2</th>\n",
       "      <td>Caro-Kann Defense</td>\n",
       "      <td>18860</td>\n",
       "      <td>5.276336</td>\n",
       "    </tr>\n",
       "    <tr>\n",
       "      <th>3</th>\n",
       "      <td>English Opening</td>\n",
       "      <td>16758</td>\n",
       "      <td>4.688274</td>\n",
       "    </tr>\n",
       "    <tr>\n",
       "      <th>4</th>\n",
       "      <td>Queen's Pawn Game</td>\n",
       "      <td>14976</td>\n",
       "      <td>4.189735</td>\n",
       "    </tr>\n",
       "    <tr>\n",
       "      <th>5</th>\n",
       "      <td>Scandinavian Defense</td>\n",
       "      <td>12219</td>\n",
       "      <td>3.418428</td>\n",
       "    </tr>\n",
       "    <tr>\n",
       "      <th>6</th>\n",
       "      <td>Zukertort Opening</td>\n",
       "      <td>10835</td>\n",
       "      <td>3.031236</td>\n",
       "    </tr>\n",
       "    <tr>\n",
       "      <th>7</th>\n",
       "      <td>Modern Defense</td>\n",
       "      <td>9938</td>\n",
       "      <td>2.780288</td>\n",
       "    </tr>\n",
       "    <tr>\n",
       "      <th>8</th>\n",
       "      <td>Indian Game</td>\n",
       "      <td>9715</td>\n",
       "      <td>2.717901</td>\n",
       "    </tr>\n",
       "    <tr>\n",
       "      <th>9</th>\n",
       "      <td>King's Indian Defense</td>\n",
       "      <td>8731</td>\n",
       "      <td>2.442614</td>\n",
       "    </tr>\n",
       "  </tbody>\n",
       "</table>\n",
       "</div>"
      ],
      "text/plain": [
       "                 Opening  counts  percentage\n",
       "0       Sicilian Defense   51409   14.382353\n",
       "1         French Defense   27318    7.642574\n",
       "2      Caro-Kann Defense   18860    5.276336\n",
       "3        English Opening   16758    4.688274\n",
       "4      Queen's Pawn Game   14976    4.189735\n",
       "5   Scandinavian Defense   12219    3.418428\n",
       "6      Zukertort Opening   10835    3.031236\n",
       "7         Modern Defense    9938    2.780288\n",
       "8            Indian Game    9715    2.717901\n",
       "9  King's Indian Defense    8731    2.442614"
      ]
     },
     "metadata": {},
     "output_type": "display_data"
    },
    {
     "name": "stdout",
     "output_type": "stream",
     "text": [
      "Popular Openings in Rating Range: 2200 - 2500\n"
     ]
    },
    {
     "data": {
      "text/html": [
       "<div>\n",
       "<style scoped>\n",
       "    .dataframe tbody tr th:only-of-type {\n",
       "        vertical-align: middle;\n",
       "    }\n",
       "\n",
       "    .dataframe tbody tr th {\n",
       "        vertical-align: top;\n",
       "    }\n",
       "\n",
       "    .dataframe thead th {\n",
       "        text-align: right;\n",
       "    }\n",
       "</style>\n",
       "<table border=\"1\" class=\"dataframe\">\n",
       "  <thead>\n",
       "    <tr style=\"text-align: right;\">\n",
       "      <th></th>\n",
       "      <th>Opening</th>\n",
       "      <th>counts</th>\n",
       "      <th>percentage</th>\n",
       "    </tr>\n",
       "  </thead>\n",
       "  <tbody>\n",
       "    <tr>\n",
       "      <th>0</th>\n",
       "      <td>Sicilian Defense</td>\n",
       "      <td>14149</td>\n",
       "      <td>13.595004</td>\n",
       "    </tr>\n",
       "    <tr>\n",
       "      <th>1</th>\n",
       "      <td>French Defense</td>\n",
       "      <td>6567</td>\n",
       "      <td>6.309873</td>\n",
       "    </tr>\n",
       "    <tr>\n",
       "      <th>2</th>\n",
       "      <td>English Opening</td>\n",
       "      <td>5990</td>\n",
       "      <td>5.755465</td>\n",
       "    </tr>\n",
       "    <tr>\n",
       "      <th>3</th>\n",
       "      <td>Caro-Kann Defense</td>\n",
       "      <td>5527</td>\n",
       "      <td>5.310593</td>\n",
       "    </tr>\n",
       "    <tr>\n",
       "      <th>4</th>\n",
       "      <td>Zukertort Opening</td>\n",
       "      <td>4709</td>\n",
       "      <td>4.524622</td>\n",
       "    </tr>\n",
       "    <tr>\n",
       "      <th>5</th>\n",
       "      <td>Queen's Pawn Game</td>\n",
       "      <td>4099</td>\n",
       "      <td>3.938506</td>\n",
       "    </tr>\n",
       "    <tr>\n",
       "      <th>6</th>\n",
       "      <td>Indian Game</td>\n",
       "      <td>3199</td>\n",
       "      <td>3.073745</td>\n",
       "    </tr>\n",
       "    <tr>\n",
       "      <th>7</th>\n",
       "      <td>King's Indian Defense</td>\n",
       "      <td>3138</td>\n",
       "      <td>3.015133</td>\n",
       "    </tr>\n",
       "    <tr>\n",
       "      <th>8</th>\n",
       "      <td>Modern Defense</td>\n",
       "      <td>2943</td>\n",
       "      <td>2.827768</td>\n",
       "    </tr>\n",
       "    <tr>\n",
       "      <th>9</th>\n",
       "      <td>Scandinavian Defense</td>\n",
       "      <td>2778</td>\n",
       "      <td>2.669229</td>\n",
       "    </tr>\n",
       "  </tbody>\n",
       "</table>\n",
       "</div>"
      ],
      "text/plain": [
       "                 Opening  counts  percentage\n",
       "0       Sicilian Defense   14149   13.595004\n",
       "1         French Defense    6567    6.309873\n",
       "2        English Opening    5990    5.755465\n",
       "3      Caro-Kann Defense    5527    5.310593\n",
       "4      Zukertort Opening    4709    4.524622\n",
       "5      Queen's Pawn Game    4099    3.938506\n",
       "6            Indian Game    3199    3.073745\n",
       "7  King's Indian Defense    3138    3.015133\n",
       "8         Modern Defense    2943    2.827768\n",
       "9   Scandinavian Defense    2778    2.669229"
      ]
     },
     "metadata": {},
     "output_type": "display_data"
    },
    {
     "name": "stdout",
     "output_type": "stream",
     "text": [
      "Popular Openings in Rating Range: >2500\n"
     ]
    },
    {
     "data": {
      "text/html": [
       "<div>\n",
       "<style scoped>\n",
       "    .dataframe tbody tr th:only-of-type {\n",
       "        vertical-align: middle;\n",
       "    }\n",
       "\n",
       "    .dataframe tbody tr th {\n",
       "        vertical-align: top;\n",
       "    }\n",
       "\n",
       "    .dataframe thead th {\n",
       "        text-align: right;\n",
       "    }\n",
       "</style>\n",
       "<table border=\"1\" class=\"dataframe\">\n",
       "  <thead>\n",
       "    <tr style=\"text-align: right;\">\n",
       "      <th></th>\n",
       "      <th>Opening</th>\n",
       "      <th>counts</th>\n",
       "      <th>percentage</th>\n",
       "    </tr>\n",
       "  </thead>\n",
       "  <tbody>\n",
       "    <tr>\n",
       "      <th>0</th>\n",
       "      <td>Sicilian Defense</td>\n",
       "      <td>575</td>\n",
       "      <td>12.400259</td>\n",
       "    </tr>\n",
       "    <tr>\n",
       "      <th>1</th>\n",
       "      <td>Nimzo-Larsen Attack</td>\n",
       "      <td>249</td>\n",
       "      <td>5.369851</td>\n",
       "    </tr>\n",
       "    <tr>\n",
       "      <th>2</th>\n",
       "      <td>English Opening</td>\n",
       "      <td>242</td>\n",
       "      <td>5.218892</td>\n",
       "    </tr>\n",
       "    <tr>\n",
       "      <th>3</th>\n",
       "      <td>French Defense</td>\n",
       "      <td>211</td>\n",
       "      <td>4.550356</td>\n",
       "    </tr>\n",
       "    <tr>\n",
       "      <th>4</th>\n",
       "      <td>King's Indian Defense</td>\n",
       "      <td>188</td>\n",
       "      <td>4.054345</td>\n",
       "    </tr>\n",
       "    <tr>\n",
       "      <th>5</th>\n",
       "      <td>Zukertort Opening</td>\n",
       "      <td>171</td>\n",
       "      <td>3.687729</td>\n",
       "    </tr>\n",
       "    <tr>\n",
       "      <th>6</th>\n",
       "      <td>King's Indian Attack</td>\n",
       "      <td>164</td>\n",
       "      <td>3.536769</td>\n",
       "    </tr>\n",
       "    <tr>\n",
       "      <th>7</th>\n",
       "      <td>Queen's Gambit Declined</td>\n",
       "      <td>151</td>\n",
       "      <td>3.256416</td>\n",
       "    </tr>\n",
       "    <tr>\n",
       "      <th>8</th>\n",
       "      <td>Caro-Kann Defense</td>\n",
       "      <td>140</td>\n",
       "      <td>3.019193</td>\n",
       "    </tr>\n",
       "    <tr>\n",
       "      <th>9</th>\n",
       "      <td>Indian Game</td>\n",
       "      <td>135</td>\n",
       "      <td>2.911365</td>\n",
       "    </tr>\n",
       "  </tbody>\n",
       "</table>\n",
       "</div>"
      ],
      "text/plain": [
       "                   Opening  counts  percentage\n",
       "0         Sicilian Defense     575   12.400259\n",
       "1      Nimzo-Larsen Attack     249    5.369851\n",
       "2          English Opening     242    5.218892\n",
       "3           French Defense     211    4.550356\n",
       "4    King's Indian Defense     188    4.054345\n",
       "5        Zukertort Opening     171    3.687729\n",
       "6     King's Indian Attack     164    3.536769\n",
       "7  Queen's Gambit Declined     151    3.256416\n",
       "8        Caro-Kann Defense     140    3.019193\n",
       "9              Indian Game     135    2.911365"
      ]
     },
     "metadata": {},
     "output_type": "display_data"
    }
   ],
   "source": [
    "Rating_Ranges = [1200, 1400, 1600, 1800, 2000, 2200, 2500, 2500]\n",
    "for i in range(len(Rating_Ranges)):\n",
    "    if(i == 0):\n",
    "        df_rate = df[(df['White Rating'] < Rating_Ranges[i]) & (df['Black Rating'] < Rating_Ranges[i])]\n",
    "        print(f'Popular Openings in Rating Range: 0 - {Rating_Ranges[i]}')\n",
    "    elif(i == len(Rating_Ranges) - 1):\n",
    "        df_rate = df[(df['White Rating'] > Rating_Ranges[i]) & (df['Black Rating'] > Rating_Ranges[i])]\n",
    "        print(f'Popular Openings in Rating Range: >{Rating_Ranges[i]}')\n",
    "    else:\n",
    "        df_rate = df[(df['White Rating'] > Rating_Ranges[i-1]) & (df['Black Rating'] > Rating_Ranges[i-1]) &\n",
    "                    (df['White Rating'] < Rating_Ranges[i]) & (df['Black Rating'] < Rating_Ranges[i])]\n",
    "        print(f'Popular Openings in Rating Range: {Rating_Ranges[i-1]} - {Rating_Ranges[i]}')      \n",
    "    counts = df_rate['Opening Short'].value_counts()\n",
    "    percentage = df_rate['Opening Short'].value_counts(normalize=True).mul(100)\n",
    "    open_stats = pd.DataFrame({'counts': counts, 'percentage':percentage})\n",
    "    open_stats.index.name='Opening'\n",
    "    open_stats = open_stats.reset_index()\n",
    "    display(open_stats.head(10))    \n",
    "   # display(open_stats[open_stats['Opening'] == \"King's Pawn Game\"])"
   ]
  },
  {
   "cell_type": "markdown",
   "metadata": {},
   "source": [
    "# Effectiveness of Top Openings in Top Level Play"
   ]
  },
  {
   "cell_type": "code",
   "execution_count": 61,
   "metadata": {},
   "outputs": [
    {
     "data": {
      "text/html": [
       "<div>\n",
       "<style scoped>\n",
       "    .dataframe tbody tr th:only-of-type {\n",
       "        vertical-align: middle;\n",
       "    }\n",
       "\n",
       "    .dataframe tbody tr th {\n",
       "        vertical-align: top;\n",
       "    }\n",
       "\n",
       "    .dataframe thead th {\n",
       "        text-align: right;\n",
       "    }\n",
       "</style>\n",
       "<table border=\"1\" class=\"dataframe\">\n",
       "  <thead>\n",
       "    <tr style=\"text-align: right;\">\n",
       "      <th></th>\n",
       "      <th>counts</th>\n",
       "      <th>percentage</th>\n",
       "    </tr>\n",
       "  </thead>\n",
       "  <tbody>\n",
       "    <tr>\n",
       "      <th>Sicilian Defense</th>\n",
       "      <td>1061</td>\n",
       "      <td>10.417280</td>\n",
       "    </tr>\n",
       "    <tr>\n",
       "      <th>Nimzo-Larsen Attack</th>\n",
       "      <td>790</td>\n",
       "      <td>7.756505</td>\n",
       "    </tr>\n",
       "    <tr>\n",
       "      <th>English Opening</th>\n",
       "      <td>448</td>\n",
       "      <td>4.398625</td>\n",
       "    </tr>\n",
       "    <tr>\n",
       "      <th>French Defense</th>\n",
       "      <td>443</td>\n",
       "      <td>4.349534</td>\n",
       "    </tr>\n",
       "    <tr>\n",
       "      <th>Zukertort Opening</th>\n",
       "      <td>410</td>\n",
       "      <td>4.025528</td>\n",
       "    </tr>\n",
       "  </tbody>\n",
       "</table>\n",
       "</div>"
      ],
      "text/plain": [
       "                     counts  percentage\n",
       "Sicilian Defense       1061   10.417280\n",
       "Nimzo-Larsen Attack     790    7.756505\n",
       "English Opening         448    4.398625\n",
       "French Defense          443    4.349534\n",
       "Zukertort Opening       410    4.025528"
      ]
     },
     "metadata": {},
     "output_type": "display_data"
    }
   ],
   "source": [
    "df_top = df[(df['Avg Rating'] > 2500)]\n",
    "counts = df_top['Opening Short'].value_counts()\n",
    "percentage = df_top['Opening Short'].value_counts(normalize=True).mul(100)\n",
    "top_stats = pd.DataFrame({'counts': counts, 'percentage':percentage})\n",
    "display(top_stats.head(5))"
   ]
  },
  {
   "cell_type": "code",
   "execution_count": 64,
   "metadata": {},
   "outputs": [
    {
     "name": "stdout",
     "output_type": "stream",
     "text": [
      ">2500 ELO: Results for Sicilian Defense\n"
     ]
    },
    {
     "data": {
      "text/html": [
       "<div>\n",
       "<style scoped>\n",
       "    .dataframe tbody tr th:only-of-type {\n",
       "        vertical-align: middle;\n",
       "    }\n",
       "\n",
       "    .dataframe tbody tr th {\n",
       "        vertical-align: top;\n",
       "    }\n",
       "\n",
       "    .dataframe thead th {\n",
       "        text-align: right;\n",
       "    }\n",
       "</style>\n",
       "<table border=\"1\" class=\"dataframe\">\n",
       "  <thead>\n",
       "    <tr style=\"text-align: right;\">\n",
       "      <th></th>\n",
       "      <th>Result</th>\n",
       "    </tr>\n",
       "  </thead>\n",
       "  <tbody>\n",
       "    <tr>\n",
       "      <th>0-1</th>\n",
       "      <td>0.479736</td>\n",
       "    </tr>\n",
       "    <tr>\n",
       "      <th>1-0</th>\n",
       "      <td>0.444863</td>\n",
       "    </tr>\n",
       "    <tr>\n",
       "      <th>1/2-1/2</th>\n",
       "      <td>0.075401</td>\n",
       "    </tr>\n",
       "  </tbody>\n",
       "</table>\n",
       "</div>"
      ],
      "text/plain": [
       "           Result\n",
       "0-1      0.479736\n",
       "1-0      0.444863\n",
       "1/2-1/2  0.075401"
      ]
     },
     "metadata": {},
     "output_type": "display_data"
    },
    {
     "name": "stdout",
     "output_type": "stream",
     "text": [
      ">2500 ELO: Results for French Defense\n"
     ]
    },
    {
     "data": {
      "text/html": [
       "<div>\n",
       "<style scoped>\n",
       "    .dataframe tbody tr th:only-of-type {\n",
       "        vertical-align: middle;\n",
       "    }\n",
       "\n",
       "    .dataframe tbody tr th {\n",
       "        vertical-align: top;\n",
       "    }\n",
       "\n",
       "    .dataframe thead th {\n",
       "        text-align: right;\n",
       "    }\n",
       "</style>\n",
       "<table border=\"1\" class=\"dataframe\">\n",
       "  <thead>\n",
       "    <tr style=\"text-align: right;\">\n",
       "      <th></th>\n",
       "      <th>Result</th>\n",
       "    </tr>\n",
       "  </thead>\n",
       "  <tbody>\n",
       "    <tr>\n",
       "      <th>1-0</th>\n",
       "      <td>0.501129</td>\n",
       "    </tr>\n",
       "    <tr>\n",
       "      <th>0-1</th>\n",
       "      <td>0.437923</td>\n",
       "    </tr>\n",
       "    <tr>\n",
       "      <th>1/2-1/2</th>\n",
       "      <td>0.060948</td>\n",
       "    </tr>\n",
       "  </tbody>\n",
       "</table>\n",
       "</div>"
      ],
      "text/plain": [
       "           Result\n",
       "1-0      0.501129\n",
       "0-1      0.437923\n",
       "1/2-1/2  0.060948"
      ]
     },
     "metadata": {},
     "output_type": "display_data"
    },
    {
     "name": "stdout",
     "output_type": "stream",
     "text": [
      ">2500 ELO: Results for English Opening\n"
     ]
    },
    {
     "data": {
      "text/html": [
       "<div>\n",
       "<style scoped>\n",
       "    .dataframe tbody tr th:only-of-type {\n",
       "        vertical-align: middle;\n",
       "    }\n",
       "\n",
       "    .dataframe tbody tr th {\n",
       "        vertical-align: top;\n",
       "    }\n",
       "\n",
       "    .dataframe thead th {\n",
       "        text-align: right;\n",
       "    }\n",
       "</style>\n",
       "<table border=\"1\" class=\"dataframe\">\n",
       "  <thead>\n",
       "    <tr style=\"text-align: right;\">\n",
       "      <th></th>\n",
       "      <th>Result</th>\n",
       "    </tr>\n",
       "  </thead>\n",
       "  <tbody>\n",
       "    <tr>\n",
       "      <th>0-1</th>\n",
       "      <td>0.497768</td>\n",
       "    </tr>\n",
       "    <tr>\n",
       "      <th>1-0</th>\n",
       "      <td>0.417411</td>\n",
       "    </tr>\n",
       "    <tr>\n",
       "      <th>1/2-1/2</th>\n",
       "      <td>0.084821</td>\n",
       "    </tr>\n",
       "  </tbody>\n",
       "</table>\n",
       "</div>"
      ],
      "text/plain": [
       "           Result\n",
       "0-1      0.497768\n",
       "1-0      0.417411\n",
       "1/2-1/2  0.084821"
      ]
     },
     "metadata": {},
     "output_type": "display_data"
    },
    {
     "name": "stdout",
     "output_type": "stream",
     "text": [
      ">2500 ELO: Results for Nimzo-Larsen Attack\n"
     ]
    },
    {
     "data": {
      "text/html": [
       "<div>\n",
       "<style scoped>\n",
       "    .dataframe tbody tr th:only-of-type {\n",
       "        vertical-align: middle;\n",
       "    }\n",
       "\n",
       "    .dataframe tbody tr th {\n",
       "        vertical-align: top;\n",
       "    }\n",
       "\n",
       "    .dataframe thead th {\n",
       "        text-align: right;\n",
       "    }\n",
       "</style>\n",
       "<table border=\"1\" class=\"dataframe\">\n",
       "  <thead>\n",
       "    <tr style=\"text-align: right;\">\n",
       "      <th></th>\n",
       "      <th>Result</th>\n",
       "    </tr>\n",
       "  </thead>\n",
       "  <tbody>\n",
       "    <tr>\n",
       "      <th>1-0</th>\n",
       "      <td>0.700000</td>\n",
       "    </tr>\n",
       "    <tr>\n",
       "      <th>0-1</th>\n",
       "      <td>0.250633</td>\n",
       "    </tr>\n",
       "    <tr>\n",
       "      <th>1/2-1/2</th>\n",
       "      <td>0.049367</td>\n",
       "    </tr>\n",
       "  </tbody>\n",
       "</table>\n",
       "</div>"
      ],
      "text/plain": [
       "           Result\n",
       "1-0      0.700000\n",
       "0-1      0.250633\n",
       "1/2-1/2  0.049367"
      ]
     },
     "metadata": {},
     "output_type": "display_data"
    },
    {
     "name": "stdout",
     "output_type": "stream",
     "text": [
      ">2500 ELO: Results for Zukertort Opening\n"
     ]
    },
    {
     "data": {
      "text/html": [
       "<div>\n",
       "<style scoped>\n",
       "    .dataframe tbody tr th:only-of-type {\n",
       "        vertical-align: middle;\n",
       "    }\n",
       "\n",
       "    .dataframe tbody tr th {\n",
       "        vertical-align: top;\n",
       "    }\n",
       "\n",
       "    .dataframe thead th {\n",
       "        text-align: right;\n",
       "    }\n",
       "</style>\n",
       "<table border=\"1\" class=\"dataframe\">\n",
       "  <thead>\n",
       "    <tr style=\"text-align: right;\">\n",
       "      <th></th>\n",
       "      <th>Result</th>\n",
       "    </tr>\n",
       "  </thead>\n",
       "  <tbody>\n",
       "    <tr>\n",
       "      <th>1-0</th>\n",
       "      <td>0.490244</td>\n",
       "    </tr>\n",
       "    <tr>\n",
       "      <th>0-1</th>\n",
       "      <td>0.446341</td>\n",
       "    </tr>\n",
       "    <tr>\n",
       "      <th>1/2-1/2</th>\n",
       "      <td>0.063415</td>\n",
       "    </tr>\n",
       "  </tbody>\n",
       "</table>\n",
       "</div>"
      ],
      "text/plain": [
       "           Result\n",
       "1-0      0.490244\n",
       "0-1      0.446341\n",
       "1/2-1/2  0.063415"
      ]
     },
     "metadata": {},
     "output_type": "display_data"
    }
   ],
   "source": [
    "openings = ['Sicilian Defense', 'French Defense', 'English Opening', 'Nimzo-Larsen Attack', 'Zukertort Opening']\n",
    "for op in openings:\n",
    "    df_op = df_top[df_top['Opening Short'] == op]\n",
    "    df_results = pd.DataFrame(df_op['Result'].value_counts(normalize=True))\n",
    "    print(f'>2500 ELO: Results for {op}')\n",
    "    display(df_results)"
   ]
  },
  {
   "cell_type": "code",
   "execution_count": 65,
   "metadata": {},
   "outputs": [
    {
     "ename": "NameError",
     "evalue": "name 'ratings' is not defined",
     "output_type": "error",
     "traceback": [
      "\u001b[1;31m---------------------------------------------------------------------------\u001b[0m",
      "\u001b[1;31mNameError\u001b[0m                                 Traceback (most recent call last)",
      "\u001b[1;32m<ipython-input-65-97efa07ece9e>\u001b[0m in \u001b[0;36m<module>\u001b[1;34m\u001b[0m\n\u001b[1;32m----> 1\u001b[1;33m \u001b[0mratings\u001b[0m\u001b[1;33m.\u001b[0m\u001b[0mmin\u001b[0m\u001b[1;33m(\u001b[0m\u001b[1;33m)\u001b[0m\u001b[1;33m\u001b[0m\u001b[1;33m\u001b[0m\u001b[0m\n\u001b[0m",
      "\u001b[1;31mNameError\u001b[0m: name 'ratings' is not defined"
     ]
    }
   ],
   "source": [
    "ratings.min()"
   ]
  },
  {
   "cell_type": "code",
   "execution_count": 28,
   "metadata": {},
   "outputs": [],
   "source": [
    "prev_i = 750\n",
    "data = []\n",
    "for i in range(800, 2900, 50):\n",
    "    df_op = df[(df['Opening Short'] == 'Sicilian Defense') & (df['Avg Rating'] > prev_i) & (df['Avg Rating'] < i)]\n",
    "    if df_op.empty:\n",
    "        prev_i = i\n",
    "        continue\n",
    "    df_results = pd.DataFrame(df_op['Result'].value_counts(normalize=True))\n",
    "    try:\n",
    "        data.append({'Rating': i, 'White': df_results.loc['1-0']['Result'], 'Black': df_results.loc['0-1']['Result'], 'Draw': df_results.loc['1/2-1/2']['Result']})\n",
    "    except KeyError:\n",
    "        continue\n",
    "    prev_i = i\n",
    "df_sicilian = pd.DataFrame(data)"
   ]
  },
  {
   "cell_type": "code",
   "execution_count": 29,
   "metadata": {},
   "outputs": [],
   "source": [
    "df_sicilian = df_sicilian.set_index('Rating')"
   ]
  },
  {
   "cell_type": "code",
   "execution_count": 31,
   "metadata": {},
   "outputs": [],
   "source": [
    "df_sicilian['Black/Draw'] = df_sicilian['Black'] + df_sicilian['Draw']"
   ]
  },
  {
   "cell_type": "code",
   "execution_count": 32,
   "metadata": {},
   "outputs": [
    {
     "data": {
      "text/plain": [
       "<AxesSubplot:xlabel='Rating'>"
      ]
     },
     "execution_count": 32,
     "metadata": {},
     "output_type": "execute_result"
    },
    {
     "data": {
      "image/png": "[encoded data removed]",
      "text/plain": [
       "<Figure size 432x288 with 1 Axes>"
      ]
     },
     "metadata": {
      "needs_background": "light"
     },
     "output_type": "display_data"
    }
   ],
   "source": [
    "df_sicilian.plot.line()"
   ]
  },
  {
   "cell_type": "code",
   "execution_count": null,
   "metadata": {},
   "outputs": [],
   "source": []
  },
  {
   "cell_type": "code",
   "execution_count": 116,
   "metadata": {},
   "outputs": [
    {
     "data": {
      "text/plain": [
       "<AxesSubplot:xlabel='Rating'>"
      ]
     },
     "execution_count": 116,
     "metadata": {},
     "output_type": "execute_result"
    },
    {
     "data": {
      "image/png": "[encoded data removed]",
      "text/plain": [
       "<Figure size 432x288 with 1 Axes>"
      ]
     },
     "metadata": {
      "needs_background": "light"
     },
     "output_type": "display_data"
    }
   ],
   "source": [
    "prev_i = 750\n",
    "data = []\n",
    "for i in range(800, 2900, 50):\n",
    "    df_op = df[(df['Opening Short'] == 'Nimzo-Larsen Attack') & (df['Avg Rating'] > prev_i) & (df['Avg Rating'] < i)]\n",
    "    if df_op.empty:\n",
    "        prev_i = i\n",
    "        continue\n",
    "    df_results = pd.DataFrame(df_op['Result'].value_counts(normalize=True))\n",
    "    try:\n",
    "        data.append({'Rating': i, 'White': df_results.loc['1-0']['Result'], 'Black': df_results.loc['0-1']['Result'], 'Draw': df_results.loc['1/2-1/2']['Result']})\n",
    "    except KeyError:\n",
    "        continue\n",
    "    prev_i = i\n",
    "df_lar = pd.DataFrame(data)\n",
    "df_lar = df_lar.set_index('Rating')\n",
    "df_lar.plot.line()"
   ]
  },
  {
   "cell_type": "code",
   "execution_count": 127,
   "metadata": {},
   "outputs": [
    {
     "data": {
      "text/plain": [
       "Text(0.5, 0.98, 'Nimzo-Larsen Attack: Rating vs Results')"
      ]
     },
     "execution_count": 127,
     "metadata": {},
     "output_type": "execute_result"
    },
    {
     "data": {
      "image/png": "[encoded data removed]",
      "text/plain": [
       "<Figure size 432x288 with 1 Axes>"
      ]
     },
     "metadata": {
      "needs_background": "light"
     },
     "output_type": "display_data"
    }
   ],
   "source": [
    "df_lar.plot.line()\n",
    "plt.suptitle(\"Nimzo-Larsen Attack: Rating vs Results\")"
   ]
  },
  {
   "cell_type": "code",
   "execution_count": 118,
   "metadata": {},
   "outputs": [
    {
     "data": {
      "text/plain": [
       "Text(0.5, 0.98, 'Sicilian Defense: Rating vs Results')"
      ]
     },
     "execution_count": 118,
     "metadata": {},
     "output_type": "execute_result"
    },
    {
     "data": {
      "image/png": "[encoded data removed]",
      "text/plain": [
       "<Figure size 432x288 with 1 Axes>"
      ]
     },
     "metadata": {
      "needs_background": "light"
     },
     "output_type": "display_data"
    }
   ],
   "source": [
    "df_sicilian.plot.line()\n",
    "plt.suptitle(\"Sicilian Defense: Rating vs Results\")"
   ]
  },
  {
   "cell_type": "code",
   "execution_count": 119,
   "metadata": {},
   "outputs": [],
   "source": [
    "df_sicilian['Black vs White'] = df_sicilian['Black'] - df_sicilian['White']"
   ]
  },
  {
   "cell_type": "code",
   "execution_count": 120,
   "metadata": {},
   "outputs": [
    {
     "data": {
      "text/plain": [
       "Text(0.5, 0.98, 'Sicilian Defense: Rating vs Results')"
      ]
     },
     "execution_count": 120,
     "metadata": {},
     "output_type": "execute_result"
    },
    {
     "data": {
      "image/png": "[encoded data removed]",
      "text/plain": [
       "<Figure size 432x288 with 1 Axes>"
      ]
     },
     "metadata": {
      "needs_background": "light"
     },
     "output_type": "display_data"
    }
   ],
   "source": []
  },
  {
   "cell_type": "code",
   "execution_count": 126,
   "metadata": {},
   "outputs": [
    {
     "name": "stdout",
     "output_type": "stream",
     "text": [
      "Overall Most Popular Openings\n"
     ]
    },
    {
     "data": {
      "text/html": [
       "<div>\n",
       "<style scoped>\n",
       "    .dataframe tbody tr th:only-of-type {\n",
       "        vertical-align: middle;\n",
       "    }\n",
       "\n",
       "    .dataframe tbody tr th {\n",
       "        vertical-align: top;\n",
       "    }\n",
       "\n",
       "    .dataframe thead th {\n",
       "        text-align: right;\n",
       "    }\n",
       "</style>\n",
       "<table border=\"1\" class=\"dataframe\">\n",
       "  <thead>\n",
       "    <tr style=\"text-align: right;\">\n",
       "      <th></th>\n",
       "      <th>Opening</th>\n",
       "      <th>counts</th>\n",
       "      <th>percentage</th>\n",
       "    </tr>\n",
       "  </thead>\n",
       "  <tbody>\n",
       "    <tr>\n",
       "      <th>0</th>\n",
       "      <td>Sicilian Defense</td>\n",
       "      <td>1122640</td>\n",
       "      <td>11.22640</td>\n",
       "    </tr>\n",
       "    <tr>\n",
       "      <th>1</th>\n",
       "      <td>French Defense</td>\n",
       "      <td>682542</td>\n",
       "      <td>6.82542</td>\n",
       "    </tr>\n",
       "    <tr>\n",
       "      <th>2</th>\n",
       "      <td>Queen's Pawn Game</td>\n",
       "      <td>605547</td>\n",
       "      <td>6.05547</td>\n",
       "    </tr>\n",
       "    <tr>\n",
       "      <th>3</th>\n",
       "      <td>Scandinavian Defense</td>\n",
       "      <td>462854</td>\n",
       "      <td>4.62854</td>\n",
       "    </tr>\n",
       "    <tr>\n",
       "      <th>4</th>\n",
       "      <td>King's Pawn Game</td>\n",
       "      <td>418280</td>\n",
       "      <td>4.18280</td>\n",
       "    </tr>\n",
       "    <tr>\n",
       "      <th>5</th>\n",
       "      <td>Italian Game</td>\n",
       "      <td>344832</td>\n",
       "      <td>3.44832</td>\n",
       "    </tr>\n",
       "    <tr>\n",
       "      <th>6</th>\n",
       "      <td>Caro-Kann Defense</td>\n",
       "      <td>331632</td>\n",
       "      <td>3.31632</td>\n",
       "    </tr>\n",
       "    <tr>\n",
       "      <th>7</th>\n",
       "      <td>Philidor Defense</td>\n",
       "      <td>328675</td>\n",
       "      <td>3.28675</td>\n",
       "    </tr>\n",
       "    <tr>\n",
       "      <th>8</th>\n",
       "      <td>English Opening</td>\n",
       "      <td>315162</td>\n",
       "      <td>3.15162</td>\n",
       "    </tr>\n",
       "    <tr>\n",
       "      <th>9</th>\n",
       "      <td>Ruy Lopez</td>\n",
       "      <td>267531</td>\n",
       "      <td>2.67531</td>\n",
       "    </tr>\n",
       "    <tr>\n",
       "      <th>10</th>\n",
       "      <td>Modern Defense</td>\n",
       "      <td>226714</td>\n",
       "      <td>2.26714</td>\n",
       "    </tr>\n",
       "    <tr>\n",
       "      <th>11</th>\n",
       "      <td>Van't Kruijs Opening</td>\n",
       "      <td>202411</td>\n",
       "      <td>2.02411</td>\n",
       "    </tr>\n",
       "    <tr>\n",
       "      <th>12</th>\n",
       "      <td>Zukertort Opening</td>\n",
       "      <td>195421</td>\n",
       "      <td>1.95421</td>\n",
       "    </tr>\n",
       "    <tr>\n",
       "      <th>13</th>\n",
       "      <td>Bishop's Opening</td>\n",
       "      <td>187865</td>\n",
       "      <td>1.87865</td>\n",
       "    </tr>\n",
       "    <tr>\n",
       "      <th>14</th>\n",
       "      <td>Scotch Game</td>\n",
       "      <td>177688</td>\n",
       "      <td>1.77688</td>\n",
       "    </tr>\n",
       "    <tr>\n",
       "      <th>15</th>\n",
       "      <td>Hungarian Opening</td>\n",
       "      <td>171324</td>\n",
       "      <td>1.71324</td>\n",
       "    </tr>\n",
       "    <tr>\n",
       "      <th>16</th>\n",
       "      <td>Queen's Gambit Declined</td>\n",
       "      <td>170783</td>\n",
       "      <td>1.70783</td>\n",
       "    </tr>\n",
       "    <tr>\n",
       "      <th>17</th>\n",
       "      <td>Indian Game</td>\n",
       "      <td>164643</td>\n",
       "      <td>1.64643</td>\n",
       "    </tr>\n",
       "    <tr>\n",
       "      <th>18</th>\n",
       "      <td>Pirc Defense</td>\n",
       "      <td>162086</td>\n",
       "      <td>1.62086</td>\n",
       "    </tr>\n",
       "    <tr>\n",
       "      <th>19</th>\n",
       "      <td>Horwitz Defense</td>\n",
       "      <td>145817</td>\n",
       "      <td>1.45817</td>\n",
       "    </tr>\n",
       "    <tr>\n",
       "      <th>20</th>\n",
       "      <td>Nimzo-Larsen Attack</td>\n",
       "      <td>127954</td>\n",
       "      <td>1.27954</td>\n",
       "    </tr>\n",
       "  </tbody>\n",
       "</table>\n",
       "</div>"
      ],
      "text/plain": [
       "                    Opening   counts  percentage\n",
       "0          Sicilian Defense  1122640    11.22640\n",
       "1            French Defense   682542     6.82542\n",
       "2         Queen's Pawn Game   605547     6.05547\n",
       "3      Scandinavian Defense   462854     4.62854\n",
       "4          King's Pawn Game   418280     4.18280\n",
       "5              Italian Game   344832     3.44832\n",
       "6         Caro-Kann Defense   331632     3.31632\n",
       "7          Philidor Defense   328675     3.28675\n",
       "8           English Opening   315162     3.15162\n",
       "9                 Ruy Lopez   267531     2.67531\n",
       "10           Modern Defense   226714     2.26714\n",
       "11     Van't Kruijs Opening   202411     2.02411\n",
       "12        Zukertort Opening   195421     1.95421\n",
       "13         Bishop's Opening   187865     1.87865\n",
       "14              Scotch Game   177688     1.77688\n",
       "15        Hungarian Opening   171324     1.71324\n",
       "16  Queen's Gambit Declined   170783     1.70783\n",
       "17              Indian Game   164643     1.64643\n",
       "18             Pirc Defense   162086     1.62086\n",
       "19          Horwitz Defense   145817     1.45817\n",
       "20      Nimzo-Larsen Attack   127954     1.27954"
      ]
     },
     "execution_count": 126,
     "metadata": {},
     "output_type": "execute_result"
    }
   ],
   "source": [
    "df['Opening Short'].value_counts(normalize=True)\n",
    "counts = df['Opening Short'].value_counts()\n",
    "percentage = df['Opening Short'].value_counts(normalize=True).mul(100)\n",
    "open_stats = pd.DataFrame({'counts': counts, 'percentage':percentage})\n",
    "open_stats.index.name='Opening'\n",
    "open_stats = open_stats.reset_index()\n",
    "print('Overall Most Popular Openings')\n",
    "open_stats.head(21)"
   ]
  },
  {
   "cell_type": "code",
   "execution_count": 125,
   "metadata": {},
   "outputs": [
    {
     "data": {
      "text/html": [
       "<div>\n",
       "<style scoped>\n",
       "    .dataframe tbody tr th:only-of-type {\n",
       "        vertical-align: middle;\n",
       "    }\n",
       "\n",
       "    .dataframe tbody tr th {\n",
       "        vertical-align: top;\n",
       "    }\n",
       "\n",
       "    .dataframe thead th {\n",
       "        text-align: right;\n",
       "    }\n",
       "</style>\n",
       "<table border=\"1\" class=\"dataframe\">\n",
       "  <thead>\n",
       "    <tr style=\"text-align: right;\">\n",
       "      <th></th>\n",
       "      <th>Opening</th>\n",
       "      <th>counts</th>\n",
       "      <th>percentage</th>\n",
       "    </tr>\n",
       "  </thead>\n",
       "  <tbody>\n",
       "    <tr>\n",
       "      <th>20</th>\n",
       "      <td>Nimzo-Larsen Attack</td>\n",
       "      <td>127954</td>\n",
       "      <td>1.27954</td>\n",
       "    </tr>\n",
       "  </tbody>\n",
       "</table>\n",
       "</div>"
      ],
      "text/plain": [
       "                Opening  counts  percentage\n",
       "20  Nimzo-Larsen Attack  127954     1.27954"
      ]
     },
     "execution_count": 125,
     "metadata": {},
     "output_type": "execute_result"
    }
   ],
   "source": [
    "open_stats[open_stats['Opening'] == 'Nimzo-Larsen Attack']"
   ]
  },
  {
   "cell_type": "code",
   "execution_count": null,
   "metadata": {},
   "outputs": [],
   "source": []
  }
 ],
 "metadata": {
  "kernelspec": {
   "display_name": "Python 3",
   "language": "python",
   "name": "python3"
  },
  "language_info": {
   "codemirror_mode": {
    "name": "ipython",
    "version": 3
   },
   "file_extension": ".py",
   "mimetype": "text/x-python",
   "name": "python",
   "nbconvert_exporter": "python",
   "pygments_lexer": "ipython3",
   "version": "3.8.5"
  }
 },
 "nbformat": 4,
 "nbformat_minor": 4
}
